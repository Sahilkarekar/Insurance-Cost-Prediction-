{
 "cells": [
  {
   "cell_type": "markdown",
   "id": "4ab62e37-9018-4127-87cd-d7e55867d381",
   "metadata": {},
   "source": [
    "\n",
    "># Insurance Cost Prediction (PRCP-1021)"
   ]
  },
  {
   "cell_type": "code",
   "execution_count": null,
   "id": "ccf1779b-c042-4b4f-b7d3-bc16ef43a0df",
   "metadata": {},
   "outputs": [],
   "source": []
  },
  {
   "cell_type": "markdown",
   "id": "2262919d-77fd-436f-93ba-d48f5705f83f",
   "metadata": {},
   "source": [
    "### Problem Statement "
   ]
  },
  {
   "cell_type": "markdown",
   "id": "01eb7d0f-837f-4a72-8e3e-5f28420cee28",
   "metadata": {},
   "source": [
    "> To develop a machine learning model that accurately predicts the medical insurance cost (charges) for an individual based on their demographic\n",
    "> and health-related information.\n"
   ]
  },
  {
   "cell_type": "code",
   "execution_count": null,
   "id": "aebf0d17-522b-4c76-969d-d1ae58838a02",
   "metadata": {},
   "outputs": [],
   "source": []
  },
  {
   "cell_type": "markdown",
   "id": "868f02f5-43d9-4243-8f13-8846d8418da2",
   "metadata": {},
   "source": [
    "### Domain Analysis"
   ]
  },
  {
   "cell_type": "code",
   "execution_count": null,
   "id": "d6eda1e2-a7ab-46cf-b27f-bbacf49d2db0",
   "metadata": {},
   "outputs": [],
   "source": []
  },
  {
   "cell_type": "markdown",
   "id": "76f2319a-a62a-4f96-a277-3af9b56f852a",
   "metadata": {},
   "source": [
    ">#### 🔹  Domain: Finance"
   ]
  },
  {
   "cell_type": "code",
   "execution_count": null,
   "id": "e022ce72-01d8-4a24-a975-045eafde6c05",
   "metadata": {},
   "outputs": [],
   "source": []
  },
  {
   "cell_type": "markdown",
   "id": "9ab59b0e-d80a-4a44-bd4e-809fd8e4b33a",
   "metadata": {},
   "source": [
    "Attribute Information:"
   ]
  },
  {
   "cell_type": "markdown",
   "id": "27d96ad6-14d6-4699-94e7-043579ba3edc",
   "metadata": {},
   "source": [
    "| **Attribute** | **Description**                                                                                                   |\n",
    "|---------------|-------------------------------------------------------------------------------------------------------------------|\n",
    "| **age**       | Age of the primary beneficiary (individual taking the insurance policy).                                          |\n",
    "| **sex**       | Gender of the beneficiary - either **male** or **female**.                                                        |\n",
    "| **bmi**       | Body Mass Index (BMI), a measure of body fat based on height and weight. Ideal range is **18.5 to 24.9**.         |\n",
    "| **children**  | Number of children/dependents covered by the insurance policy.                                                    |\n",
    "| **smoker**    | Indicates whether the person is a **smoker** or **non-smoker**.                                                   |\n",
    "| **region**    | Geographic region in the US where the beneficiary resides: **northeast, southeast, southwest, northwest**.        |\n",
    "| **charges**   | The **target variable** – individual medical insurance cost billed to the customer (to be **predicted**).         |\n",
    "| **id**        | Unique identifier for each record/beneficiary (not used for prediction).                                          |\n"
   ]
  },
  {
   "cell_type": "code",
   "execution_count": null,
   "id": "9f403e20-206a-412e-aa85-980e18380173",
   "metadata": {},
   "outputs": [],
   "source": []
  },
  {
   "cell_type": "markdown",
   "id": "0a00e0ed-7edd-4099-ba71-a5e7de107bac",
   "metadata": {},
   "source": [
    "# Task 1: Data Analysis Report\n"
   ]
  },
  {
   "cell_type": "markdown",
   "id": "d808850c-661b-4e74-9679-1b7f02edd6ac",
   "metadata": {},
   "source": [
    "### Import Libraries"
   ]
  },
  {
   "cell_type": "code",
   "execution_count": 2,
   "id": "6f738cdf-e1a5-4e6b-99d7-fadde3ab0fda",
   "metadata": {},
   "outputs": [],
   "source": [
    "import pandas as pd\n",
    "import numpy as np"
   ]
  },
  {
   "cell_type": "markdown",
   "id": "b5175f38-f434-4f8c-910e-8090ee8983af",
   "metadata": {},
   "source": [
    "### Load the Dataset"
   ]
  },
  {
   "cell_type": "code",
   "execution_count": 4,
   "id": "78df3be3-ad25-44bf-a406-ff37ed4e8d97",
   "metadata": {},
   "outputs": [],
   "source": [
    "file_path = \"insurance_dataset.csv\"\n"
   ]
  },
  {
   "cell_type": "code",
   "execution_count": 6,
   "id": "42bd4153-a52b-42c3-a81d-cc4dd0c42e57",
   "metadata": {},
   "outputs": [],
   "source": [
    "\n",
    "# Load the dataset\n",
    "data= pd.read_csv(\"insurance_dataset.csv\", sep=\",\")\n"
   ]
  },
  {
   "cell_type": "code",
   "execution_count": 8,
   "id": "4edf365d-b3c8-45ba-9978-b7b03154812f",
   "metadata": {},
   "outputs": [
    {
     "data": {
      "text/html": [
       "<div>\n",
       "<style scoped>\n",
       "    .dataframe tbody tr th:only-of-type {\n",
       "        vertical-align: middle;\n",
       "    }\n",
       "\n",
       "    .dataframe tbody tr th {\n",
       "        vertical-align: top;\n",
       "    }\n",
       "\n",
       "    .dataframe thead th {\n",
       "        text-align: right;\n",
       "    }\n",
       "</style>\n",
       "<table border=\"1\" class=\"dataframe\">\n",
       "  <thead>\n",
       "    <tr style=\"text-align: right;\">\n",
       "      <th></th>\n",
       "      <th>age</th>\n",
       "      <th>sex</th>\n",
       "      <th>bmi</th>\n",
       "      <th>children</th>\n",
       "      <th>smoker</th>\n",
       "      <th>region</th>\n",
       "      <th>charges</th>\n",
       "    </tr>\n",
       "  </thead>\n",
       "  <tbody>\n",
       "    <tr>\n",
       "      <th>0</th>\n",
       "      <td>19</td>\n",
       "      <td>female</td>\n",
       "      <td>27.900</td>\n",
       "      <td>0</td>\n",
       "      <td>yes</td>\n",
       "      <td>southwest</td>\n",
       "      <td>16884.92400</td>\n",
       "    </tr>\n",
       "    <tr>\n",
       "      <th>1</th>\n",
       "      <td>18</td>\n",
       "      <td>male</td>\n",
       "      <td>33.770</td>\n",
       "      <td>1</td>\n",
       "      <td>no</td>\n",
       "      <td>southeast</td>\n",
       "      <td>1725.55230</td>\n",
       "    </tr>\n",
       "    <tr>\n",
       "      <th>2</th>\n",
       "      <td>28</td>\n",
       "      <td>male</td>\n",
       "      <td>33.000</td>\n",
       "      <td>3</td>\n",
       "      <td>no</td>\n",
       "      <td>southeast</td>\n",
       "      <td>4449.46200</td>\n",
       "    </tr>\n",
       "    <tr>\n",
       "      <th>3</th>\n",
       "      <td>33</td>\n",
       "      <td>male</td>\n",
       "      <td>22.705</td>\n",
       "      <td>0</td>\n",
       "      <td>no</td>\n",
       "      <td>northwest</td>\n",
       "      <td>21984.47061</td>\n",
       "    </tr>\n",
       "    <tr>\n",
       "      <th>4</th>\n",
       "      <td>32</td>\n",
       "      <td>male</td>\n",
       "      <td>28.880</td>\n",
       "      <td>0</td>\n",
       "      <td>no</td>\n",
       "      <td>northwest</td>\n",
       "      <td>3866.85520</td>\n",
       "    </tr>\n",
       "    <tr>\n",
       "      <th>...</th>\n",
       "      <td>...</td>\n",
       "      <td>...</td>\n",
       "      <td>...</td>\n",
       "      <td>...</td>\n",
       "      <td>...</td>\n",
       "      <td>...</td>\n",
       "      <td>...</td>\n",
       "    </tr>\n",
       "    <tr>\n",
       "      <th>1333</th>\n",
       "      <td>50</td>\n",
       "      <td>male</td>\n",
       "      <td>30.970</td>\n",
       "      <td>3</td>\n",
       "      <td>no</td>\n",
       "      <td>northwest</td>\n",
       "      <td>10600.54830</td>\n",
       "    </tr>\n",
       "    <tr>\n",
       "      <th>1334</th>\n",
       "      <td>18</td>\n",
       "      <td>female</td>\n",
       "      <td>31.920</td>\n",
       "      <td>0</td>\n",
       "      <td>no</td>\n",
       "      <td>northeast</td>\n",
       "      <td>2205.98080</td>\n",
       "    </tr>\n",
       "    <tr>\n",
       "      <th>1335</th>\n",
       "      <td>18</td>\n",
       "      <td>female</td>\n",
       "      <td>36.850</td>\n",
       "      <td>0</td>\n",
       "      <td>no</td>\n",
       "      <td>southeast</td>\n",
       "      <td>1629.83350</td>\n",
       "    </tr>\n",
       "    <tr>\n",
       "      <th>1336</th>\n",
       "      <td>21</td>\n",
       "      <td>female</td>\n",
       "      <td>25.800</td>\n",
       "      <td>0</td>\n",
       "      <td>no</td>\n",
       "      <td>southwest</td>\n",
       "      <td>2007.94500</td>\n",
       "    </tr>\n",
       "    <tr>\n",
       "      <th>1337</th>\n",
       "      <td>61</td>\n",
       "      <td>female</td>\n",
       "      <td>29.070</td>\n",
       "      <td>0</td>\n",
       "      <td>yes</td>\n",
       "      <td>northwest</td>\n",
       "      <td>29141.36030</td>\n",
       "    </tr>\n",
       "  </tbody>\n",
       "</table>\n",
       "<p>1338 rows × 7 columns</p>\n",
       "</div>"
      ],
      "text/plain": [
       "      age     sex     bmi  children smoker     region      charges\n",
       "0      19  female  27.900         0    yes  southwest  16884.92400\n",
       "1      18    male  33.770         1     no  southeast   1725.55230\n",
       "2      28    male  33.000         3     no  southeast   4449.46200\n",
       "3      33    male  22.705         0     no  northwest  21984.47061\n",
       "4      32    male  28.880         0     no  northwest   3866.85520\n",
       "...   ...     ...     ...       ...    ...        ...          ...\n",
       "1333   50    male  30.970         3     no  northwest  10600.54830\n",
       "1334   18  female  31.920         0     no  northeast   2205.98080\n",
       "1335   18  female  36.850         0     no  southeast   1629.83350\n",
       "1336   21  female  25.800         0     no  southwest   2007.94500\n",
       "1337   61  female  29.070         0    yes  northwest  29141.36030\n",
       "\n",
       "[1338 rows x 7 columns]"
      ]
     },
     "execution_count": 8,
     "metadata": {},
     "output_type": "execute_result"
    }
   ],
   "source": [
    "data"
   ]
  },
  {
   "cell_type": "code",
   "execution_count": null,
   "id": "fad16004-02d7-41f4-8964-ac919257233b",
   "metadata": {},
   "outputs": [],
   "source": []
  },
  {
   "cell_type": "code",
   "execution_count": 10,
   "id": "0193b138-f2aa-457f-9e40-f4b5e9748002",
   "metadata": {},
   "outputs": [
    {
     "data": {
      "text/html": [
       "<div>\n",
       "<style scoped>\n",
       "    .dataframe tbody tr th:only-of-type {\n",
       "        vertical-align: middle;\n",
       "    }\n",
       "\n",
       "    .dataframe tbody tr th {\n",
       "        vertical-align: top;\n",
       "    }\n",
       "\n",
       "    .dataframe thead th {\n",
       "        text-align: right;\n",
       "    }\n",
       "</style>\n",
       "<table border=\"1\" class=\"dataframe\">\n",
       "  <thead>\n",
       "    <tr style=\"text-align: right;\">\n",
       "      <th></th>\n",
       "      <th>age</th>\n",
       "      <th>sex</th>\n",
       "      <th>bmi</th>\n",
       "      <th>children</th>\n",
       "      <th>smoker</th>\n",
       "      <th>region</th>\n",
       "      <th>charges</th>\n",
       "    </tr>\n",
       "  </thead>\n",
       "  <tbody>\n",
       "    <tr>\n",
       "      <th>0</th>\n",
       "      <td>19</td>\n",
       "      <td>female</td>\n",
       "      <td>27.900</td>\n",
       "      <td>0</td>\n",
       "      <td>yes</td>\n",
       "      <td>southwest</td>\n",
       "      <td>16884.92400</td>\n",
       "    </tr>\n",
       "    <tr>\n",
       "      <th>1</th>\n",
       "      <td>18</td>\n",
       "      <td>male</td>\n",
       "      <td>33.770</td>\n",
       "      <td>1</td>\n",
       "      <td>no</td>\n",
       "      <td>southeast</td>\n",
       "      <td>1725.55230</td>\n",
       "    </tr>\n",
       "    <tr>\n",
       "      <th>2</th>\n",
       "      <td>28</td>\n",
       "      <td>male</td>\n",
       "      <td>33.000</td>\n",
       "      <td>3</td>\n",
       "      <td>no</td>\n",
       "      <td>southeast</td>\n",
       "      <td>4449.46200</td>\n",
       "    </tr>\n",
       "    <tr>\n",
       "      <th>3</th>\n",
       "      <td>33</td>\n",
       "      <td>male</td>\n",
       "      <td>22.705</td>\n",
       "      <td>0</td>\n",
       "      <td>no</td>\n",
       "      <td>northwest</td>\n",
       "      <td>21984.47061</td>\n",
       "    </tr>\n",
       "    <tr>\n",
       "      <th>4</th>\n",
       "      <td>32</td>\n",
       "      <td>male</td>\n",
       "      <td>28.880</td>\n",
       "      <td>0</td>\n",
       "      <td>no</td>\n",
       "      <td>northwest</td>\n",
       "      <td>3866.85520</td>\n",
       "    </tr>\n",
       "  </tbody>\n",
       "</table>\n",
       "</div>"
      ],
      "text/plain": [
       "   age     sex     bmi  children smoker     region      charges\n",
       "0   19  female  27.900         0    yes  southwest  16884.92400\n",
       "1   18    male  33.770         1     no  southeast   1725.55230\n",
       "2   28    male  33.000         3     no  southeast   4449.46200\n",
       "3   33    male  22.705         0     no  northwest  21984.47061\n",
       "4   32    male  28.880         0     no  northwest   3866.85520"
      ]
     },
     "execution_count": 10,
     "metadata": {},
     "output_type": "execute_result"
    }
   ],
   "source": [
    "data.head()"
   ]
  },
  {
   "cell_type": "code",
   "execution_count": 12,
   "id": "afac75e9-70dc-41d7-8580-ebf3d9c2e101",
   "metadata": {},
   "outputs": [
    {
     "data": {
      "text/plain": [
       "(1338, 7)"
      ]
     },
     "execution_count": 12,
     "metadata": {},
     "output_type": "execute_result"
    }
   ],
   "source": [
    "data.shape"
   ]
  },
  {
   "cell_type": "code",
   "execution_count": 14,
   "id": "4e543c50-7ea6-423b-98b6-b3a2420d4d0c",
   "metadata": {},
   "outputs": [
    {
     "data": {
      "text/plain": [
       "age         0\n",
       "sex         0\n",
       "bmi         0\n",
       "children    0\n",
       "smoker      0\n",
       "region      0\n",
       "charges     0\n",
       "dtype: int64"
      ]
     },
     "execution_count": 14,
     "metadata": {},
     "output_type": "execute_result"
    }
   ],
   "source": [
    "data.isnull().sum()"
   ]
  },
  {
   "cell_type": "code",
   "execution_count": null,
   "id": "4570bad3-c36b-4522-9402-82fe13761914",
   "metadata": {},
   "outputs": [],
   "source": []
  },
  {
   "cell_type": "markdown",
   "id": "dc8cc3b3-b61e-4628-acfe-630b476046e0",
   "metadata": {},
   "source": [
    "### Exploratory Data Analysis (EDA)"
   ]
  },
  {
   "cell_type": "code",
   "execution_count": null,
   "id": "f5ef2720-4355-46ec-8aa7-0e03f797d68c",
   "metadata": {},
   "outputs": [],
   "source": []
  },
  {
   "cell_type": "code",
   "execution_count": 18,
   "id": "49a1154b-d60c-4e00-a4a1-cafe85aa1071",
   "metadata": {},
   "outputs": [
    {
     "name": "stdout",
     "output_type": "stream",
     "text": [
      "<class 'pandas.core.frame.DataFrame'>\n",
      "RangeIndex: 1338 entries, 0 to 1337\n",
      "Data columns (total 7 columns):\n",
      " #   Column    Non-Null Count  Dtype  \n",
      "---  ------    --------------  -----  \n",
      " 0   age       1338 non-null   int64  \n",
      " 1   sex       1338 non-null   object \n",
      " 2   bmi       1338 non-null   float64\n",
      " 3   children  1338 non-null   int64  \n",
      " 4   smoker    1338 non-null   object \n",
      " 5   region    1338 non-null   object \n",
      " 6   charges   1338 non-null   float64\n",
      "dtypes: float64(2), int64(2), object(3)\n",
      "memory usage: 73.3+ KB\n"
     ]
    }
   ],
   "source": [
    "data.info()"
   ]
  },
  {
   "cell_type": "code",
   "execution_count": null,
   "id": "4ae607a9-4804-4abe-8328-c4ddd18b4385",
   "metadata": {},
   "outputs": [],
   "source": []
  },
  {
   "cell_type": "code",
   "execution_count": 200,
   "id": "35396c4d-1102-4579-ae98-ab98af88927e",
   "metadata": {},
   "outputs": [
    {
     "data": {
      "text/html": [
       "<div>\n",
       "<style scoped>\n",
       "    .dataframe tbody tr th:only-of-type {\n",
       "        vertical-align: middle;\n",
       "    }\n",
       "\n",
       "    .dataframe tbody tr th {\n",
       "        vertical-align: top;\n",
       "    }\n",
       "\n",
       "    .dataframe thead th {\n",
       "        text-align: right;\n",
       "    }\n",
       "</style>\n",
       "<table border=\"1\" class=\"dataframe\">\n",
       "  <thead>\n",
       "    <tr style=\"text-align: right;\">\n",
       "      <th></th>\n",
       "      <th>age</th>\n",
       "      <th>bmi</th>\n",
       "      <th>children</th>\n",
       "      <th>charges</th>\n",
       "    </tr>\n",
       "  </thead>\n",
       "  <tbody>\n",
       "    <tr>\n",
       "      <th>count</th>\n",
       "      <td>1338.000000</td>\n",
       "      <td>1338.000000</td>\n",
       "      <td>1338.000000</td>\n",
       "      <td>1338.000000</td>\n",
       "    </tr>\n",
       "    <tr>\n",
       "      <th>mean</th>\n",
       "      <td>39.207025</td>\n",
       "      <td>30.663397</td>\n",
       "      <td>1.094918</td>\n",
       "      <td>13270.422265</td>\n",
       "    </tr>\n",
       "    <tr>\n",
       "      <th>std</th>\n",
       "      <td>14.049960</td>\n",
       "      <td>6.098187</td>\n",
       "      <td>1.205493</td>\n",
       "      <td>12110.011237</td>\n",
       "    </tr>\n",
       "    <tr>\n",
       "      <th>min</th>\n",
       "      <td>18.000000</td>\n",
       "      <td>15.960000</td>\n",
       "      <td>0.000000</td>\n",
       "      <td>1121.873900</td>\n",
       "    </tr>\n",
       "    <tr>\n",
       "      <th>25%</th>\n",
       "      <td>27.000000</td>\n",
       "      <td>26.296250</td>\n",
       "      <td>0.000000</td>\n",
       "      <td>4740.287150</td>\n",
       "    </tr>\n",
       "    <tr>\n",
       "      <th>50%</th>\n",
       "      <td>39.000000</td>\n",
       "      <td>30.400000</td>\n",
       "      <td>1.000000</td>\n",
       "      <td>9382.033000</td>\n",
       "    </tr>\n",
       "    <tr>\n",
       "      <th>75%</th>\n",
       "      <td>51.000000</td>\n",
       "      <td>34.693750</td>\n",
       "      <td>2.000000</td>\n",
       "      <td>16639.912515</td>\n",
       "    </tr>\n",
       "    <tr>\n",
       "      <th>max</th>\n",
       "      <td>64.000000</td>\n",
       "      <td>53.130000</td>\n",
       "      <td>5.000000</td>\n",
       "      <td>63770.428010</td>\n",
       "    </tr>\n",
       "  </tbody>\n",
       "</table>\n",
       "</div>"
      ],
      "text/plain": [
       "               age          bmi     children       charges\n",
       "count  1338.000000  1338.000000  1338.000000   1338.000000\n",
       "mean     39.207025    30.663397     1.094918  13270.422265\n",
       "std      14.049960     6.098187     1.205493  12110.011237\n",
       "min      18.000000    15.960000     0.000000   1121.873900\n",
       "25%      27.000000    26.296250     0.000000   4740.287150\n",
       "50%      39.000000    30.400000     1.000000   9382.033000\n",
       "75%      51.000000    34.693750     2.000000  16639.912515\n",
       "max      64.000000    53.130000     5.000000  63770.428010"
      ]
     },
     "execution_count": 200,
     "metadata": {},
     "output_type": "execute_result"
    }
   ],
   "source": [
    "data.describe()"
   ]
  },
  {
   "cell_type": "markdown",
   "id": "df446f67-c313-498c-b442-d61ab1c687d3",
   "metadata": {},
   "source": [
    "| **Summary**  | **Description**                                                                                                                                                                                                                                                                                                              |\n",
    "| ------------ | ---------------------------------------------------------------------------------------------------------------------------------------------------------------------------------------------------------------------------------------------------------------------------------------------------------------------------- |\n",
    "| **age**      | - Ranges from **18 to 64** years old.<br>- Mean age: **39.2**, indicating a balanced mix of young and older adults.<br>- Most policyholders fall between **27 (25th percentile)** and **51 (75th percentile)**.                                                                                                              |\n",
    "| **bmi**      | - Body Mass Index ranges from **15.96 to 53.13**.<br>- Mean BMI: **30.66**, slightly above the healthy range (suggesting overweight/obese population).<br>- 75% of entries have BMI below **34.69**.                                                                                                                         |\n",
    "| **children** | - Number of dependents ranges from **0 to 5**.<br>- Mean number of children: **1.09**, indicating most people have **0 to 2 children**.<br>- 50% (median) have **1 child**.                                                                                                                                                  |\n",
    "| **charges**  | - Insurance charges range from **\\$1,121.87 to \\$63,770.43**.<br>- Mean cost: **\\$13,270.42**, but high standard deviation (**\\$12,110**) indicates **significant variation**.<br>- 75% of people are charged less than **\\$16,639.91**, but the max shows **very high outliers**, likely due to smoking or chronic illness. |\n"
   ]
  },
  {
   "cell_type": "code",
   "execution_count": null,
   "id": "8aa82675-f9d4-4b6a-8449-22c39c9d6a4e",
   "metadata": {},
   "outputs": [],
   "source": []
  },
  {
   "cell_type": "markdown",
   "id": "7dade528-6f73-4422-8812-10176cc1cd27",
   "metadata": {},
   "source": [
    "### Univarite Analysis"
   ]
  },
  {
   "cell_type": "code",
   "execution_count": null,
   "id": "8d5014c0-4198-4cc7-9a68-d03322be2913",
   "metadata": {},
   "outputs": [],
   "source": []
  },
  {
   "cell_type": "markdown",
   "id": "7aef1071-0613-4933-9bb9-3a109273080a",
   "metadata": {},
   "source": [
    "### Numerical Features: age, bmi, children, charges\n"
   ]
  },
  {
   "cell_type": "code",
   "execution_count": 22,
   "id": "81f450a5-e3e7-455a-9362-e940ec03a2e4",
   "metadata": {},
   "outputs": [
    {
     "data": {
      "image/png": "[encoded data removed]",
      "text/plain": [
       "<Figure size 800x600 with 4 Axes>"
      ]
     },
     "metadata": {},
     "output_type": "display_data"
    }
   ],
   "source": [
    "import matplotlib.pyplot as plt\n",
    "import seaborn as sns\n",
    "\n",
    "# Set style for seaborn\n",
    "sns.set(style=\"whitegrid\")\n",
    "\n",
    "# Plot distribution for each numerical feature\n",
    "num_cols = ['age', 'bmi', 'children', 'charges']\n",
    "\n",
    "plt.figure(figsize=(8, 6))\n",
    "for i, col in enumerate(num_cols, 1):\n",
    "    plt.subplot(2, 2, i)\n",
    "    sns.histplot(data[col], kde=True, bins=30, color='skyblue')\n",
    "    plt.title(f'Distribution of {col}')\n",
    "plt.tight_layout()\n",
    "plt.show()\n"
   ]
  },
  {
   "cell_type": "markdown",
   "id": "15d2bf5c-3351-4081-b1cb-05345e2a1b66",
   "metadata": {},
   "source": [
    "| **Feature**  | **Summary**                                                 |\n",
    "| ------------ | ----------------------------------------------------------- |\n",
    "| **age**      | Ranges from **18 to 64** years old.                         |\n",
    "| **bmi**      | Body Mass Index ranges from **15.96 to 53.13**.             |\n",
    "| **children** | Number of dependents ranges from **0 to 5**.                |\n",
    "| **charges**  | Insurance charges range from **\\$1,121.87 to \\$63,770.43**. |\n"
   ]
  },
  {
   "cell_type": "code",
   "execution_count": null,
   "id": "1f2e58df-d513-48d5-a7ae-b142ff314930",
   "metadata": {},
   "outputs": [],
   "source": []
  },
  {
   "cell_type": "markdown",
   "id": "a6fb3c10-ef47-4f07-a8d9-07b8dd044c13",
   "metadata": {},
   "source": [
    "### Categorical Features: sex, smoker, region\n",
    "\n"
   ]
  },
  {
   "cell_type": "code",
   "execution_count": 24,
   "id": "bd1a2a77-32b8-4dea-bcc3-fc2014817e93",
   "metadata": {},
   "outputs": [
    {
     "data": {
      "image/png": "[encoded data removed]",
      "text/plain": [
       "<Figure size 1500x400 with 3 Axes>"
      ]
     },
     "metadata": {},
     "output_type": "display_data"
    }
   ],
   "source": [
    "plt.figure(figsize=(15, 4))\n",
    "\n",
    "# Pie chart for Sex\n",
    "plt.subplot(1, 3, 1)\n",
    "sex_counts = data['sex'].value_counts()\n",
    "plt.pie(sex_counts, labels=sex_counts.index, autopct='%1.1f%%', colors=sns.color_palette('pastel'))\n",
    "plt.title('Sex Distribution')\n",
    "\n",
    "# Pie chart for Smoker\n",
    "plt.subplot(1, 3, 2)\n",
    "smoker_counts = data['smoker'].value_counts()\n",
    "plt.pie(smoker_counts, labels=smoker_counts.index, autopct='%1.1f%%', colors=sns.color_palette('muted'))\n",
    "plt.title('Smoker Distribution')\n",
    "\n",
    "# Pie chart for Region\n",
    "plt.subplot(1, 3, 3)\n",
    "region_counts = data['region'].value_counts()\n",
    "plt.pie(region_counts, labels=region_counts.index, autopct='%1.1f%%', colors=sns.color_palette('Set2'))\n",
    "plt.title('Region Distribution')\n",
    "\n",
    "plt.tight_layout()\n",
    "plt.show()\n"
   ]
  },
  {
   "cell_type": "code",
   "execution_count": null,
   "id": "83733d8e-cc50-4265-aecb-ffd8c50934c9",
   "metadata": {},
   "outputs": [],
   "source": []
  },
  {
   "cell_type": "markdown",
   "id": "4dcc0b58-cf8f-4646-a96b-cb38990b0ff6",
   "metadata": {},
   "source": [
    "### Bivarite Analysis "
   ]
  },
  {
   "cell_type": "code",
   "execution_count": null,
   "id": "4888df99-1621-4d1f-b850-14cc31bf3f4e",
   "metadata": {},
   "outputs": [],
   "source": []
  },
  {
   "cell_type": "markdown",
   "id": "7baa7d20-918e-4211-bf0a-07b21b2e0a97",
   "metadata": {},
   "source": [
    "###  Scatter Plots (Numeric vs Numeric: age & bmi vs charges)\n",
    "\n"
   ]
  },
  {
   "cell_type": "code",
   "execution_count": null,
   "id": "519c1c8a-894d-4656-b8ae-9cf82125b266",
   "metadata": {},
   "outputs": [],
   "source": []
  },
  {
   "cell_type": "code",
   "execution_count": 26,
   "id": "1af87047-40e4-4574-b235-a3215c15a4f8",
   "metadata": {},
   "outputs": [
    {
     "data": {
      "image/png": "[encoded data removed]",
      "text/plain": [
       "<Figure size 1200x400 with 2 Axes>"
      ]
     },
     "metadata": {},
     "output_type": "display_data"
    }
   ],
   "source": [
    "import matplotlib.pyplot as plt\n",
    "import seaborn as sns\n",
    "\n",
    "plt.figure(figsize=(12, 4))\n",
    "\n",
    "plt.subplot(1, 3, 1)\n",
    "sns.scatterplot(data=data, x='age', y='charges')\n",
    "plt.title('Age vs Charges')\n",
    "\n",
    "plt.subplot(1, 3, 2)\n",
    "sns.scatterplot(data=data, x='bmi', y='charges')\n",
    "plt.title('BMI vs Charges')\n",
    "\n",
    "plt.tight_layout()\n",
    "plt.show()\n"
   ]
  },
  {
   "cell_type": "code",
   "execution_count": null,
   "id": "15b2c30d-7c01-4553-9839-d791e362d04f",
   "metadata": {},
   "outputs": [],
   "source": []
  },
  {
   "cell_type": "markdown",
   "id": "d5fbef9b-1feb-4f62-a992-c65a46a67bfa",
   "metadata": {},
   "source": [
    "### Charges Distribution by Sex,Smoking Status &  Region VS Charges "
   ]
  },
  {
   "cell_type": "code",
   "execution_count": 28,
   "id": "05ee4162-0ad3-4e98-bc12-4017f59939d4",
   "metadata": {},
   "outputs": [
    {
     "data": {
      "image/png": "[encoded data removed]",
      "text/plain": [
       "<Figure size 1800x500 with 3 Axes>"
      ]
     },
     "metadata": {},
     "output_type": "display_data"
    }
   ],
   "source": [
    "import matplotlib.pyplot as plt\n",
    "import seaborn as sns\n",
    "\n",
    "plt.figure(figsize=(18, 5))\n",
    "\n",
    "# Histogram for charges by Sex\n",
    "plt.subplot(1, 3, 1)\n",
    "sns.histplot(data=data, x='charges', hue='sex', multiple='stack', palette='pastel', bins=30)\n",
    "plt.title('Charges Distribution by Sex')\n",
    "\n",
    "# Histogram for charges by Smoker\n",
    "plt.subplot(1, 3, 2)\n",
    "sns.histplot(data=data, x='charges', hue='smoker', multiple='stack', palette='muted', bins=30)\n",
    "plt.title('Charges Distribution by Smoker')\n",
    "\n",
    "# Histogram for charges by Region\n",
    "plt.subplot(1, 3, 3)\n",
    "sns.histplot(data=data, x='charges', hue='region', multiple='stack', palette='Set2', bins=30)\n",
    "plt.title('Charges Distribution by Region')\n",
    "\n",
    "plt.tight_layout()\n",
    "plt.show()\n"
   ]
  },
  {
   "cell_type": "code",
   "execution_count": null,
   "id": "2dc10add-ee82-49ae-84dc-3a4665366f84",
   "metadata": {},
   "outputs": [],
   "source": []
  },
  {
   "cell_type": "markdown",
   "id": "00453bf0-4e2d-4db4-b8b8-ec59e66c904e",
   "metadata": {},
   "source": [
    "### Density Plot"
   ]
  },
  {
   "cell_type": "code",
   "execution_count": 27,
   "id": "5d64ab77-d61a-4fff-9e1e-91a618fb1c0a",
   "metadata": {},
   "outputs": [
    {
     "data": {
      "image/png": "[encoded data removed]",
      "text/plain": [
       "<Figure size 1800x1000 with 4 Axes>"
      ]
     },
     "metadata": {},
     "output_type": "display_data"
    }
   ],
   "source": [
    "\n",
    "# Map smoker column if numeric\n",
    "if data['smoker'].dtype in ['int64', 'int32', 'float64']:\n",
    "    data['smoker'] = data['smoker'].map({0: 'Non-Smoker', 1: 'Smoker'})\n",
    "\n",
    "# Drop missing values\n",
    "data = data.dropna(subset=['smoker', 'charges'])\n",
    "\n",
    "# Create groups\n",
    "data['Age_Group'] = pd.cut(data['age'], bins=[0, 19, 44, 100], labels=['Teenager', 'Adult', 'Older'])\n",
    "data['BMI_Group'] = pd.cut(data['bmi'], bins=[0, 24.9, 29.9, 100], labels=['Healthy BMI', 'Overweight', 'Obese'])\n",
    "data['Children_Group'] = pd.cut(data['children'], bins=[-1, 0, 2, 10], labels=['No Children', '1-2 Children', '3+ Children'])\n",
    "\n",
    "# Dark theme setup\n",
    "sns.set(style=\"darkgrid\", context='notebook')\n",
    "plt.style.use('dark_background')\n",
    "fig, axes = plt.subplots(2, 2, figsize=(18, 10))\n",
    "axes = axes.flatten()\n",
    "\n",
    "# Palette\n",
    "palette_age = sns.color_palette(\"viridis\", 3)\n",
    "palette_smoker = sns.color_palette(\"Set2\", 2)\n",
    "palette_bmi = sns.color_palette(\"coolwarm\", 3)\n",
    "palette_children = sns.color_palette(\"plasma\", 3)\n",
    "\n",
    "# KDE Plot 1: Age Group\n",
    "sns.kdeplot(data=data, x='charges', hue='Age_Group', fill=True, common_norm=False,\n",
    "            palette=palette_age, alpha=0.6, ax=axes[0])\n",
    "axes[0].set_title(\"Charges by Age Group\", fontsize=14)\n",
    "\n",
    "# KDE Plot 2: Smoker\n",
    "sns.kdeplot(data=data, x='charges', hue='smoker', fill=True, common_norm=False,\n",
    "            palette=palette_smoker, alpha=0.6, ax=axes[1])\n",
    "axes[1].set_title(\"Charges by Smoker Status\", fontsize=14)\n",
    "\n",
    "# KDE Plot 3: BMI Group\n",
    "sns.kdeplot(data=data, x='charges', hue='BMI_Group', fill=True, common_norm=False,\n",
    "            palette=palette_bmi, alpha=0.6, ax=axes[2])\n",
    "axes[2].set_title(\"Charges by BMI Group\", fontsize=14)\n",
    "\n",
    "# KDE Plot 4: Children Group\n",
    "sns.kdeplot(data=data, x='charges', hue='Children_Group', fill=True, common_norm=False,\n",
    "            palette=palette_children, alpha=0.6, ax=axes[3])\n",
    "axes[3].set_title(\"Charges by Number of Children\", fontsize=14)\n",
    "\n",
    "# Style\n",
    "for ax in axes:\n",
    "    ax.set_facecolor(\"#1c1c1c\")\n",
    "    ax.tick_params(colors='white')\n",
    "    ax.xaxis.label.set_color('white')\n",
    "    ax.yaxis.label.set_color('white')\n",
    "    ax.title.set_color('lightblue')\n",
    "    legend = ax.get_legend()\n",
    "    if legend:\n",
    "        legend.get_title().set_color('white')\n",
    "        for text in legend.get_texts():\n",
    "            text.set_color('white')\n",
    "\n",
    "fig.patch.set_facecolor(\"#111\")\n",
    "plt.suptitle(\"Distribution of Insurance Charges by Key Factors (KDE)\", fontsize=18, color='white')\n",
    "plt.tight_layout(rect=[0, 0, 1, 0.95])\n",
    "plt.show()\n"
   ]
  },
  {
   "cell_type": "code",
   "execution_count": null,
   "id": "fa71a78d-a375-4ef2-a024-e2c525d1881c",
   "metadata": {},
   "outputs": [],
   "source": []
  },
  {
   "cell_type": "code",
   "execution_count": null,
   "id": "f80694ac-277d-4e28-bfb3-c8208e62a01c",
   "metadata": {},
   "outputs": [],
   "source": []
  },
  {
   "cell_type": "markdown",
   "id": "93a9dc43-6695-47e0-a428-4d95abff1443",
   "metadata": {},
   "source": [
    "### Correlation Analysis:"
   ]
  },
  {
   "cell_type": "code",
   "execution_count": null,
   "id": "447b2398-4787-4399-9a3e-39a3cdb162df",
   "metadata": {},
   "outputs": [],
   "source": []
  },
  {
   "cell_type": "code",
   "execution_count": 32,
   "id": "dcccbac4-b290-4897-85aa-cfbc0bed4403",
   "metadata": {},
   "outputs": [
    {
     "data": {
      "image/png": "[encoded data removed]",
      "text/plain": [
       "<Figure size 600x400 with 2 Axes>"
      ]
     },
     "metadata": {},
     "output_type": "display_data"
    }
   ],
   "source": [
    "import seaborn as sns\n",
    "import matplotlib.pyplot as plt\n",
    "\n",
    "# Calculate correlation matrix of numeric columns\n",
    "corr = data[['age', 'bmi', 'children', 'charges']].corr()\n",
    "\n",
    "# Display the correlation matrix as a heatmap\n",
    "plt.figure(figsize=(6, 4))\n",
    "sns.heatmap(corr, annot=True, cmap='coolwarm', fmt='.3f', linewidths=0.5)\n",
    "plt.title('Correlation Matrix of Numerical Features')\n",
    "plt.show()\n"
   ]
  },
  {
   "cell_type": "code",
   "execution_count": null,
   "id": "f34d1871-95c6-48ea-a505-7d760545ff6e",
   "metadata": {},
   "outputs": [],
   "source": []
  },
  {
   "cell_type": "markdown",
   "id": "3b1f3466-df32-48d4-b263-21ff8b5897e8",
   "metadata": {},
   "source": [
    "### Data Cleaning and Preprocessing "
   ]
  },
  {
   "cell_type": "code",
   "execution_count": null,
   "id": "4a6aa396-027f-41ad-840c-519d40ea068a",
   "metadata": {},
   "outputs": [],
   "source": []
  },
  {
   "cell_type": "markdown",
   "id": "cbf6dad2-40e2-4866-8474-400044a83006",
   "metadata": {},
   "source": [
    "### Outliers Detection:"
   ]
  },
  {
   "cell_type": "code",
   "execution_count": null,
   "id": "3d6d9058-0e68-4120-a822-c58101f65cf1",
   "metadata": {},
   "outputs": [],
   "source": [
    "### Use boxplots or IQR method on age, bmi, children, and charges."
   ]
  },
  {
   "cell_type": "code",
   "execution_count": 34,
   "id": "5b0a4644-e3d2-4675-b7ff-6c2fe8cddbda",
   "metadata": {},
   "outputs": [
    {
     "data": {
      "image/png": "[encoded data removed]",
      "text/plain": [
       "<Figure size 800x600 with 4 Axes>"
      ]
     },
     "metadata": {},
     "output_type": "display_data"
    }
   ],
   "source": [
    "import matplotlib.pyplot as plt\n",
    "import seaborn as sns\n",
    "\n",
    "num_cols = ['age', 'bmi', 'children', 'charges']\n",
    "\n",
    "plt.figure(figsize=(8, 6))\n",
    "for i, col in enumerate(num_cols, 1):\n",
    "    plt.subplot(2, 2, i)\n",
    "    sns.boxplot(data[col])\n",
    "    plt.title(f'Boxplot of {col}')\n",
    "plt.tight_layout()\n",
    "plt.show()\n"
   ]
  },
  {
   "cell_type": "code",
   "execution_count": null,
   "id": "20e10d6c-6568-4979-bbfb-28f8aba62236",
   "metadata": {},
   "outputs": [],
   "source": []
  },
  {
   "cell_type": "code",
   "execution_count": 36,
   "id": "6624a535-e8ec-48c9-bf25-7d8886941bb0",
   "metadata": {},
   "outputs": [
    {
     "name": "stdout",
     "output_type": "stream",
     "text": [
      "BMI outliers count: 9\n",
      "Charges outliers count: 139\n"
     ]
    }
   ],
   "source": [
    "def detect_outliers_iqr(df, col):\n",
    "    Q1 = df[col].quantile(0.25)\n",
    "    Q3 = df[col].quantile(0.75)\n",
    "    IQR = Q3 - Q1\n",
    "    lower_bound = Q1 - 1.5 * IQR\n",
    "    upper_bound = Q3 + 1.5 * IQR\n",
    "    outliers = df[(df[col] < lower_bound) | (df[col] > upper_bound)]\n",
    "    return outliers\n",
    "\n",
    "bmi_outliers = detect_outliers_iqr(data, 'bmi')\n",
    "charges_outliers = detect_outliers_iqr(data, 'charges')\n",
    "\n",
    "print(f'BMI outliers count: {len(bmi_outliers)}')\n",
    "print(f'Charges outliers count: {len(charges_outliers)}')\n"
   ]
  },
  {
   "cell_type": "code",
   "execution_count": null,
   "id": "27da0407-7f88-4231-b19f-604d6a996a92",
   "metadata": {},
   "outputs": [],
   "source": []
  },
  {
   "cell_type": "code",
   "execution_count": 38,
   "id": "79179d64-ef6f-4500-a7a5-e7034b46e6e8",
   "metadata": {},
   "outputs": [],
   "source": [
    "cols_with_outliers = ['bmi', 'charges']\n",
    "\n",
    "for col in cols_with_outliers:\n",
    "    Q1 = data[col].quantile(0.25)\n",
    "    Q3 = data[col].quantile(0.75)\n",
    "    IQR = Q3 - Q1\n",
    "    \n",
    "    lower_bound = Q1 - 1.5 * IQR\n",
    "    upper_bound = Q3 + 1.5 * IQR\n",
    "    \n",
    "    # Cap the outliers\n",
    "    data[col] = data[col].apply(lambda x: upper_bound if x > upper_bound else (lower_bound if x < lower_bound else x))\n"
   ]
  },
  {
   "cell_type": "code",
   "execution_count": null,
   "id": "4d6285b1-cf61-4706-87af-ddb632ab98a3",
   "metadata": {},
   "outputs": [],
   "source": []
  },
  {
   "cell_type": "code",
   "execution_count": 40,
   "id": "93fad21d-3b6c-440c-89f2-4f644746f2e7",
   "metadata": {},
   "outputs": [
    {
     "data": {
      "image/png": "[encoded data removed]",
      "text/plain": [
       "<Figure size 600x400 with 2 Axes>"
      ]
     },
     "metadata": {},
     "output_type": "display_data"
    }
   ],
   "source": [
    "import matplotlib.pyplot as plt\n",
    "import seaborn as sns\n",
    "\n",
    "cols = ['bmi', 'charges']\n",
    "\n",
    "plt.figure(figsize=(6, 4))\n",
    "\n",
    "for i, col in enumerate(cols, 1):\n",
    "    plt.subplot(1, len(cols), i)\n",
    "    sns.boxplot(x=data[col])\n",
    "    plt.title(f'After - {col}')\n",
    "\n",
    "plt.tight_layout()\n",
    "plt.show()\n"
   ]
  },
  {
   "cell_type": "code",
   "execution_count": null,
   "id": "b9eccb70-b9f3-4e2a-b8d4-e41b936d0ed0",
   "metadata": {},
   "outputs": [],
   "source": []
  },
  {
   "cell_type": "markdown",
   "id": "1b0b8f4e-d219-474a-8bb0-769b22661a59",
   "metadata": {},
   "source": [
    "### Handle Missing Values"
   ]
  },
  {
   "cell_type": "code",
   "execution_count": null,
   "id": "c362b613-c12d-44ff-8395-bab8f5637162",
   "metadata": {},
   "outputs": [],
   "source": []
  },
  {
   "cell_type": "code",
   "execution_count": 44,
   "id": "28d01f74-324c-4ff3-9a47-7745fff7f153",
   "metadata": {},
   "outputs": [
    {
     "data": {
      "text/plain": [
       "age         0\n",
       "sex         0\n",
       "bmi         0\n",
       "children    0\n",
       "smoker      0\n",
       "region      0\n",
       "charges     0\n",
       "dtype: int64"
      ]
     },
     "execution_count": 44,
     "metadata": {},
     "output_type": "execute_result"
    }
   ],
   "source": [
    "data.isnull().sum()"
   ]
  },
  {
   "cell_type": "code",
   "execution_count": null,
   "id": "1cf56f6d-0547-4bf3-a630-47127b02ea48",
   "metadata": {},
   "outputs": [],
   "source": []
  },
  {
   "cell_type": "markdown",
   "id": "09cd1a82-ef28-4df4-baf7-dee3b849f0f9",
   "metadata": {},
   "source": [
    "### Preprocessing of Columns"
   ]
  },
  {
   "cell_type": "code",
   "execution_count": null,
   "id": "c0c7f22b-4069-4c36-92e7-d17e64d85d2b",
   "metadata": {},
   "outputs": [],
   "source": []
  },
  {
   "cell_type": "markdown",
   "id": "00fad520-f9bb-4687-b410-0433498a912b",
   "metadata": {},
   "source": [
    "### Label Encoding\n"
   ]
  },
  {
   "cell_type": "code",
   "execution_count": null,
   "id": "6658747b-7dcd-416c-ac4f-276b9e603bda",
   "metadata": {},
   "outputs": [],
   "source": []
  },
  {
   "cell_type": "code",
   "execution_count": 48,
   "id": "494a8827-1d4b-4914-8fff-edc26ab09e45",
   "metadata": {},
   "outputs": [
    {
     "data": {
      "text/html": [
       "<div>\n",
       "<style scoped>\n",
       "    .dataframe tbody tr th:only-of-type {\n",
       "        vertical-align: middle;\n",
       "    }\n",
       "\n",
       "    .dataframe tbody tr th {\n",
       "        vertical-align: top;\n",
       "    }\n",
       "\n",
       "    .dataframe thead th {\n",
       "        text-align: right;\n",
       "    }\n",
       "</style>\n",
       "<table border=\"1\" class=\"dataframe\">\n",
       "  <thead>\n",
       "    <tr style=\"text-align: right;\">\n",
       "      <th></th>\n",
       "      <th>age</th>\n",
       "      <th>sex</th>\n",
       "      <th>bmi</th>\n",
       "      <th>children</th>\n",
       "      <th>smoker</th>\n",
       "      <th>region</th>\n",
       "      <th>charges</th>\n",
       "    </tr>\n",
       "  </thead>\n",
       "  <tbody>\n",
       "    <tr>\n",
       "      <th>0</th>\n",
       "      <td>19</td>\n",
       "      <td>female</td>\n",
       "      <td>27.900</td>\n",
       "      <td>0</td>\n",
       "      <td>yes</td>\n",
       "      <td>southwest</td>\n",
       "      <td>16884.92400</td>\n",
       "    </tr>\n",
       "    <tr>\n",
       "      <th>1</th>\n",
       "      <td>18</td>\n",
       "      <td>male</td>\n",
       "      <td>33.770</td>\n",
       "      <td>1</td>\n",
       "      <td>no</td>\n",
       "      <td>southeast</td>\n",
       "      <td>1725.55230</td>\n",
       "    </tr>\n",
       "    <tr>\n",
       "      <th>2</th>\n",
       "      <td>28</td>\n",
       "      <td>male</td>\n",
       "      <td>33.000</td>\n",
       "      <td>3</td>\n",
       "      <td>no</td>\n",
       "      <td>southeast</td>\n",
       "      <td>4449.46200</td>\n",
       "    </tr>\n",
       "    <tr>\n",
       "      <th>3</th>\n",
       "      <td>33</td>\n",
       "      <td>male</td>\n",
       "      <td>22.705</td>\n",
       "      <td>0</td>\n",
       "      <td>no</td>\n",
       "      <td>northwest</td>\n",
       "      <td>21984.47061</td>\n",
       "    </tr>\n",
       "    <tr>\n",
       "      <th>4</th>\n",
       "      <td>32</td>\n",
       "      <td>male</td>\n",
       "      <td>28.880</td>\n",
       "      <td>0</td>\n",
       "      <td>no</td>\n",
       "      <td>northwest</td>\n",
       "      <td>3866.85520</td>\n",
       "    </tr>\n",
       "    <tr>\n",
       "      <th>...</th>\n",
       "      <td>...</td>\n",
       "      <td>...</td>\n",
       "      <td>...</td>\n",
       "      <td>...</td>\n",
       "      <td>...</td>\n",
       "      <td>...</td>\n",
       "      <td>...</td>\n",
       "    </tr>\n",
       "    <tr>\n",
       "      <th>1333</th>\n",
       "      <td>50</td>\n",
       "      <td>male</td>\n",
       "      <td>30.970</td>\n",
       "      <td>3</td>\n",
       "      <td>no</td>\n",
       "      <td>northwest</td>\n",
       "      <td>10600.54830</td>\n",
       "    </tr>\n",
       "    <tr>\n",
       "      <th>1334</th>\n",
       "      <td>18</td>\n",
       "      <td>female</td>\n",
       "      <td>31.920</td>\n",
       "      <td>0</td>\n",
       "      <td>no</td>\n",
       "      <td>northeast</td>\n",
       "      <td>2205.98080</td>\n",
       "    </tr>\n",
       "    <tr>\n",
       "      <th>1335</th>\n",
       "      <td>18</td>\n",
       "      <td>female</td>\n",
       "      <td>36.850</td>\n",
       "      <td>0</td>\n",
       "      <td>no</td>\n",
       "      <td>southeast</td>\n",
       "      <td>1629.83350</td>\n",
       "    </tr>\n",
       "    <tr>\n",
       "      <th>1336</th>\n",
       "      <td>21</td>\n",
       "      <td>female</td>\n",
       "      <td>25.800</td>\n",
       "      <td>0</td>\n",
       "      <td>no</td>\n",
       "      <td>southwest</td>\n",
       "      <td>2007.94500</td>\n",
       "    </tr>\n",
       "    <tr>\n",
       "      <th>1337</th>\n",
       "      <td>61</td>\n",
       "      <td>female</td>\n",
       "      <td>29.070</td>\n",
       "      <td>0</td>\n",
       "      <td>yes</td>\n",
       "      <td>northwest</td>\n",
       "      <td>29141.36030</td>\n",
       "    </tr>\n",
       "  </tbody>\n",
       "</table>\n",
       "<p>1338 rows × 7 columns</p>\n",
       "</div>"
      ],
      "text/plain": [
       "      age     sex     bmi  children smoker     region      charges\n",
       "0      19  female  27.900         0    yes  southwest  16884.92400\n",
       "1      18    male  33.770         1     no  southeast   1725.55230\n",
       "2      28    male  33.000         3     no  southeast   4449.46200\n",
       "3      33    male  22.705         0     no  northwest  21984.47061\n",
       "4      32    male  28.880         0     no  northwest   3866.85520\n",
       "...   ...     ...     ...       ...    ...        ...          ...\n",
       "1333   50    male  30.970         3     no  northwest  10600.54830\n",
       "1334   18  female  31.920         0     no  northeast   2205.98080\n",
       "1335   18  female  36.850         0     no  southeast   1629.83350\n",
       "1336   21  female  25.800         0     no  southwest   2007.94500\n",
       "1337   61  female  29.070         0    yes  northwest  29141.36030\n",
       "\n",
       "[1338 rows x 7 columns]"
      ]
     },
     "execution_count": 48,
     "metadata": {},
     "output_type": "execute_result"
    }
   ],
   "source": [
    "data"
   ]
  },
  {
   "cell_type": "code",
   "execution_count": null,
   "id": "c1d25cde-dae1-4ec1-97da-187ae0aeb54d",
   "metadata": {},
   "outputs": [],
   "source": []
  },
  {
   "cell_type": "code",
   "execution_count": 211,
   "id": "784f09a9-70a5-4f39-8b2c-35a5f2efe649",
   "metadata": {},
   "outputs": [
    {
     "data": {
      "text/html": [
       "<div>\n",
       "<style scoped>\n",
       "    .dataframe tbody tr th:only-of-type {\n",
       "        vertical-align: middle;\n",
       "    }\n",
       "\n",
       "    .dataframe tbody tr th {\n",
       "        vertical-align: top;\n",
       "    }\n",
       "\n",
       "    .dataframe thead th {\n",
       "        text-align: right;\n",
       "    }\n",
       "</style>\n",
       "<table border=\"1\" class=\"dataframe\">\n",
       "  <thead>\n",
       "    <tr style=\"text-align: right;\">\n",
       "      <th></th>\n",
       "      <th>age</th>\n",
       "      <th>sex</th>\n",
       "      <th>bmi</th>\n",
       "      <th>children</th>\n",
       "      <th>smoker</th>\n",
       "      <th>region</th>\n",
       "      <th>charges</th>\n",
       "    </tr>\n",
       "  </thead>\n",
       "  <tbody>\n",
       "    <tr>\n",
       "      <th>0</th>\n",
       "      <td>19</td>\n",
       "      <td>0</td>\n",
       "      <td>27.900</td>\n",
       "      <td>0</td>\n",
       "      <td>1</td>\n",
       "      <td>3</td>\n",
       "      <td>16884.92400</td>\n",
       "    </tr>\n",
       "    <tr>\n",
       "      <th>1</th>\n",
       "      <td>18</td>\n",
       "      <td>1</td>\n",
       "      <td>33.770</td>\n",
       "      <td>1</td>\n",
       "      <td>0</td>\n",
       "      <td>2</td>\n",
       "      <td>1725.55230</td>\n",
       "    </tr>\n",
       "    <tr>\n",
       "      <th>2</th>\n",
       "      <td>28</td>\n",
       "      <td>1</td>\n",
       "      <td>33.000</td>\n",
       "      <td>3</td>\n",
       "      <td>0</td>\n",
       "      <td>2</td>\n",
       "      <td>4449.46200</td>\n",
       "    </tr>\n",
       "    <tr>\n",
       "      <th>3</th>\n",
       "      <td>33</td>\n",
       "      <td>1</td>\n",
       "      <td>22.705</td>\n",
       "      <td>0</td>\n",
       "      <td>0</td>\n",
       "      <td>1</td>\n",
       "      <td>21984.47061</td>\n",
       "    </tr>\n",
       "    <tr>\n",
       "      <th>4</th>\n",
       "      <td>32</td>\n",
       "      <td>1</td>\n",
       "      <td>28.880</td>\n",
       "      <td>0</td>\n",
       "      <td>0</td>\n",
       "      <td>1</td>\n",
       "      <td>3866.85520</td>\n",
       "    </tr>\n",
       "  </tbody>\n",
       "</table>\n",
       "</div>"
      ],
      "text/plain": [
       "   age  sex     bmi  children  smoker  region      charges\n",
       "0   19    0  27.900         0       1       3  16884.92400\n",
       "1   18    1  33.770         1       0       2   1725.55230\n",
       "2   28    1  33.000         3       0       2   4449.46200\n",
       "3   33    1  22.705         0       0       1  21984.47061\n",
       "4   32    1  28.880         0       0       1   3866.85520"
      ]
     },
     "execution_count": 211,
     "metadata": {},
     "output_type": "execute_result"
    }
   ],
   "source": [
    "from sklearn.preprocessing import LabelEncoder\n",
    "\n",
    "# Label Encoding for binary columns\n",
    "label_enc = LabelEncoder()\n",
    "data['sex'] = label_enc.fit_transform(data['sex'])        # female=0, male=1\n",
    "data['smoker'] = label_enc.fit_transform(data['smoker'])  # no=0, yes=1\n",
    "\n",
    "# Label Encoding for multi-class column 'region'\n",
    "region_enc = LabelEncoder()\n",
    "data['region'] = region_enc.fit_transform(data['region'])  # e.g., northeast=0, northwest=1, southeast=2, southwest=3\n",
    "\n",
    "# View the updated dataframe\n",
    "data.head()\n"
   ]
  },
  {
   "cell_type": "code",
   "execution_count": null,
   "id": "f2941245-b2c9-4366-8707-b0dc0236c970",
   "metadata": {},
   "outputs": [],
   "source": []
  },
  {
   "cell_type": "markdown",
   "id": "219f0583-02a0-4e86-a246-ecb49d758226",
   "metadata": {},
   "source": [
    "### Before Transformation"
   ]
  },
  {
   "cell_type": "markdown",
   "id": "54537bdb-609c-4137-8ae0-6ca1de06e91f",
   "metadata": {},
   "source": [
    "| **Column** | **Sample Values**                          |\n",
    "| ---------- | ------------------------------------------ |\n",
    "| **sex**    | Female, Male                               |\n",
    "| **smoker** | no, yes                                    |\n",
    "| **region** | northeast, northwest, southeast, southwest |\n"
   ]
  },
  {
   "cell_type": "markdown",
   "id": "8ebf2dd3-285d-42ea-84f6-163f217e3cbd",
   "metadata": {},
   "source": [
    "### After Transformation"
   ]
  },
  {
   "cell_type": "markdown",
   "id": "b234c50b-de7e-49d0-83c4-bc77c7228e19",
   "metadata": {},
   "source": [
    "| **Column** | **Encoded Values (Label Encoding)**                        |\n",
    "| ---------- | ---------------------------------------------------------- |\n",
    "| **sex**    | 0 (Female), 1 (Male)                                       |\n",
    "| **smoker** | 0 (No), 1 (Yes)                                            |\n",
    "| **region** | 0 (northeast), 1 (northwest), 2 (southeast), 3 (southwest) |\n"
   ]
  },
  {
   "cell_type": "code",
   "execution_count": 215,
   "id": "8a63fcee-9dcc-4ada-87f4-53968fdc1644",
   "metadata": {},
   "outputs": [
    {
     "data": {
      "text/html": [
       "<div>\n",
       "<style scoped>\n",
       "    .dataframe tbody tr th:only-of-type {\n",
       "        vertical-align: middle;\n",
       "    }\n",
       "\n",
       "    .dataframe tbody tr th {\n",
       "        vertical-align: top;\n",
       "    }\n",
       "\n",
       "    .dataframe thead th {\n",
       "        text-align: right;\n",
       "    }\n",
       "</style>\n",
       "<table border=\"1\" class=\"dataframe\">\n",
       "  <thead>\n",
       "    <tr style=\"text-align: right;\">\n",
       "      <th></th>\n",
       "      <th>age</th>\n",
       "      <th>sex</th>\n",
       "      <th>bmi</th>\n",
       "      <th>children</th>\n",
       "      <th>smoker</th>\n",
       "      <th>region</th>\n",
       "      <th>charges</th>\n",
       "    </tr>\n",
       "  </thead>\n",
       "  <tbody>\n",
       "    <tr>\n",
       "      <th>0</th>\n",
       "      <td>19</td>\n",
       "      <td>0</td>\n",
       "      <td>27.90</td>\n",
       "      <td>0</td>\n",
       "      <td>1</td>\n",
       "      <td>3</td>\n",
       "      <td>16884.9240</td>\n",
       "    </tr>\n",
       "    <tr>\n",
       "      <th>1</th>\n",
       "      <td>18</td>\n",
       "      <td>1</td>\n",
       "      <td>33.77</td>\n",
       "      <td>1</td>\n",
       "      <td>0</td>\n",
       "      <td>2</td>\n",
       "      <td>1725.5523</td>\n",
       "    </tr>\n",
       "  </tbody>\n",
       "</table>\n",
       "</div>"
      ],
      "text/plain": [
       "   age  sex    bmi  children  smoker  region     charges\n",
       "0   19    0  27.90         0       1       3  16884.9240\n",
       "1   18    1  33.77         1       0       2   1725.5523"
      ]
     },
     "execution_count": 215,
     "metadata": {},
     "output_type": "execute_result"
    }
   ],
   "source": [
    "data.head(2)"
   ]
  },
  {
   "cell_type": "code",
   "execution_count": null,
   "id": "97873ef9-6b07-464e-83ff-05427d030ad9",
   "metadata": {},
   "outputs": [],
   "source": []
  },
  {
   "cell_type": "code",
   "execution_count": 54,
   "id": "14f90b27-5627-4c50-82c4-8865f87d84cf",
   "metadata": {},
   "outputs": [
    {
     "name": "stdout",
     "output_type": "stream",
     "text": [
      "Data saved successfully to 'insurance_cleaned_data.csv'\n"
     ]
    }
   ],
   "source": [
    "data.to_csv('insurance_cleaned_data.csv', index=False)\n",
    "print(\"Data saved successfully to 'insurance_cleaned_data.csv'\")\n"
   ]
  },
  {
   "cell_type": "code",
   "execution_count": null,
   "id": "0ba40380-0f5b-42f5-bc24-636e59ccd86a",
   "metadata": {},
   "outputs": [],
   "source": []
  },
  {
   "cell_type": "code",
   "execution_count": null,
   "id": "139e85ad-e31d-4fb6-8d3d-7a47902f90bd",
   "metadata": {},
   "outputs": [],
   "source": []
  },
  {
   "cell_type": "markdown",
   "id": "355b1815-26c9-48ba-b9e1-fbae91bda146",
   "metadata": {},
   "source": [
    "# Task 2: Predictive Model Implementation"
   ]
  },
  {
   "cell_type": "code",
   "execution_count": null,
   "id": "1a59b7b2-89fd-43d1-b047-e72d3273d6c5",
   "metadata": {},
   "outputs": [],
   "source": []
  },
  {
   "cell_type": "markdown",
   "id": "36a51370-6c35-44c7-bc44-8858f1febcc0",
   "metadata": {},
   "source": [
    "### Data Splitting"
   ]
  },
  {
   "cell_type": "code",
   "execution_count": null,
   "id": "f357fd9d-73a1-477d-afd9-c8bedb52c8a5",
   "metadata": {},
   "outputs": [],
   "source": []
  },
  {
   "cell_type": "code",
   "execution_count": 225,
   "id": "4ddff2fe-1862-4824-bc0e-85db0a14c1f3",
   "metadata": {},
   "outputs": [
    {
     "name": "stdout",
     "output_type": "stream",
     "text": [
      "Training features shape: (1070, 6)\n",
      "Testing features shape: (268, 6)\n",
      "Training target shape: (1070,)\n",
      "Testing target shape: (268,)\n"
     ]
    }
   ],
   "source": [
    "from sklearn.model_selection import train_test_split\n",
    "\n",
    "# Features (drop target columns)\n",
    "X = data.drop(columns=['charges'])\n",
    "\n",
    "# Target (use log_charges or charges)\n",
    "y = data['charges']  # or use data['charges']\n",
    "\n",
    "# Split data (e.g., 80% train, 20% test)\n",
    "X_train, X_test, y_train, y_test = train_test_split(\n",
    "    X, y, test_size=0.2, random_state=42\n",
    ")\n",
    "\n",
    "print(\"Training features shape:\", X_train.shape)\n",
    "print(\"Testing features shape:\", X_test.shape)\n",
    "print(\"Training target shape:\", y_train.shape)\n",
    "print(\"Testing target shape:\", y_test.shape)\n"
   ]
  },
  {
   "cell_type": "code",
   "execution_count": 227,
   "id": "f18d8d6b-2d8e-452c-ab01-c028c7a7378f",
   "metadata": {},
   "outputs": [
    {
     "data": {
      "text/html": [
       "<div>\n",
       "<style scoped>\n",
       "    .dataframe tbody tr th:only-of-type {\n",
       "        vertical-align: middle;\n",
       "    }\n",
       "\n",
       "    .dataframe tbody tr th {\n",
       "        vertical-align: top;\n",
       "    }\n",
       "\n",
       "    .dataframe thead th {\n",
       "        text-align: right;\n",
       "    }\n",
       "</style>\n",
       "<table border=\"1\" class=\"dataframe\">\n",
       "  <thead>\n",
       "    <tr style=\"text-align: right;\">\n",
       "      <th></th>\n",
       "      <th>age</th>\n",
       "      <th>sex</th>\n",
       "      <th>bmi</th>\n",
       "      <th>children</th>\n",
       "      <th>smoker</th>\n",
       "      <th>region</th>\n",
       "    </tr>\n",
       "  </thead>\n",
       "  <tbody>\n",
       "    <tr>\n",
       "      <th>0</th>\n",
       "      <td>19</td>\n",
       "      <td>0</td>\n",
       "      <td>27.900</td>\n",
       "      <td>0</td>\n",
       "      <td>1</td>\n",
       "      <td>3</td>\n",
       "    </tr>\n",
       "    <tr>\n",
       "      <th>1</th>\n",
       "      <td>18</td>\n",
       "      <td>1</td>\n",
       "      <td>33.770</td>\n",
       "      <td>1</td>\n",
       "      <td>0</td>\n",
       "      <td>2</td>\n",
       "    </tr>\n",
       "    <tr>\n",
       "      <th>2</th>\n",
       "      <td>28</td>\n",
       "      <td>1</td>\n",
       "      <td>33.000</td>\n",
       "      <td>3</td>\n",
       "      <td>0</td>\n",
       "      <td>2</td>\n",
       "    </tr>\n",
       "    <tr>\n",
       "      <th>3</th>\n",
       "      <td>33</td>\n",
       "      <td>1</td>\n",
       "      <td>22.705</td>\n",
       "      <td>0</td>\n",
       "      <td>0</td>\n",
       "      <td>1</td>\n",
       "    </tr>\n",
       "    <tr>\n",
       "      <th>4</th>\n",
       "      <td>32</td>\n",
       "      <td>1</td>\n",
       "      <td>28.880</td>\n",
       "      <td>0</td>\n",
       "      <td>0</td>\n",
       "      <td>1</td>\n",
       "    </tr>\n",
       "    <tr>\n",
       "      <th>...</th>\n",
       "      <td>...</td>\n",
       "      <td>...</td>\n",
       "      <td>...</td>\n",
       "      <td>...</td>\n",
       "      <td>...</td>\n",
       "      <td>...</td>\n",
       "    </tr>\n",
       "    <tr>\n",
       "      <th>1333</th>\n",
       "      <td>50</td>\n",
       "      <td>1</td>\n",
       "      <td>30.970</td>\n",
       "      <td>3</td>\n",
       "      <td>0</td>\n",
       "      <td>1</td>\n",
       "    </tr>\n",
       "    <tr>\n",
       "      <th>1334</th>\n",
       "      <td>18</td>\n",
       "      <td>0</td>\n",
       "      <td>31.920</td>\n",
       "      <td>0</td>\n",
       "      <td>0</td>\n",
       "      <td>0</td>\n",
       "    </tr>\n",
       "    <tr>\n",
       "      <th>1335</th>\n",
       "      <td>18</td>\n",
       "      <td>0</td>\n",
       "      <td>36.850</td>\n",
       "      <td>0</td>\n",
       "      <td>0</td>\n",
       "      <td>2</td>\n",
       "    </tr>\n",
       "    <tr>\n",
       "      <th>1336</th>\n",
       "      <td>21</td>\n",
       "      <td>0</td>\n",
       "      <td>25.800</td>\n",
       "      <td>0</td>\n",
       "      <td>0</td>\n",
       "      <td>3</td>\n",
       "    </tr>\n",
       "    <tr>\n",
       "      <th>1337</th>\n",
       "      <td>61</td>\n",
       "      <td>0</td>\n",
       "      <td>29.070</td>\n",
       "      <td>0</td>\n",
       "      <td>1</td>\n",
       "      <td>1</td>\n",
       "    </tr>\n",
       "  </tbody>\n",
       "</table>\n",
       "<p>1338 rows × 6 columns</p>\n",
       "</div>"
      ],
      "text/plain": [
       "      age  sex     bmi  children  smoker  region\n",
       "0      19    0  27.900         0       1       3\n",
       "1      18    1  33.770         1       0       2\n",
       "2      28    1  33.000         3       0       2\n",
       "3      33    1  22.705         0       0       1\n",
       "4      32    1  28.880         0       0       1\n",
       "...   ...  ...     ...       ...     ...     ...\n",
       "1333   50    1  30.970         3       0       1\n",
       "1334   18    0  31.920         0       0       0\n",
       "1335   18    0  36.850         0       0       2\n",
       "1336   21    0  25.800         0       0       3\n",
       "1337   61    0  29.070         0       1       1\n",
       "\n",
       "[1338 rows x 6 columns]"
      ]
     },
     "execution_count": 227,
     "metadata": {},
     "output_type": "execute_result"
    }
   ],
   "source": [
    "X"
   ]
  },
  {
   "cell_type": "code",
   "execution_count": 229,
   "id": "ee644b9e-7f79-4d5d-8630-6e21b807585b",
   "metadata": {},
   "outputs": [
    {
     "data": {
      "text/plain": [
       "0       16884.92400\n",
       "1        1725.55230\n",
       "2        4449.46200\n",
       "3       21984.47061\n",
       "4        3866.85520\n",
       "           ...     \n",
       "1333    10600.54830\n",
       "1334     2205.98080\n",
       "1335     1629.83350\n",
       "1336     2007.94500\n",
       "1337    29141.36030\n",
       "Name: charges, Length: 1338, dtype: float64"
      ]
     },
     "execution_count": 229,
     "metadata": {},
     "output_type": "execute_result"
    }
   ],
   "source": [
    "y"
   ]
  },
  {
   "cell_type": "code",
   "execution_count": null,
   "id": "8dbfea89-319b-4251-9b05-a869e35ebb15",
   "metadata": {},
   "outputs": [],
   "source": []
  },
  {
   "cell_type": "markdown",
   "id": "3686929b-22a5-462d-bd94-c360ae552f0f",
   "metadata": {},
   "source": [
    "### StandardScaler"
   ]
  },
  {
   "cell_type": "code",
   "execution_count": null,
   "id": "796ddee7-560e-4791-9d09-0799b4ad149a",
   "metadata": {},
   "outputs": [],
   "source": []
  },
  {
   "cell_type": "code",
   "execution_count": 231,
   "id": "f7a65261-0176-4255-84fd-edfd0a33809c",
   "metadata": {},
   "outputs": [],
   "source": [
    "from sklearn.preprocessing import StandardScaler\n",
    "\n",
    "scaler = StandardScaler()\n",
    "X_train_scaled = scaler.fit_transform(X_train)\n",
    "X_test_scaled = scaler.transform(X_test)\n"
   ]
  },
  {
   "cell_type": "code",
   "execution_count": 233,
   "id": "38eb98af-4a89-4589-9216-f7625d5199c2",
   "metadata": {},
   "outputs": [
    {
     "name": "stdout",
     "output_type": "stream",
     "text": [
      "Training set shape: (1070, 6)\n",
      "Test set shape: (268, 6)\n"
     ]
    }
   ],
   "source": [
    "\n",
    "# Output the shapes to confirm\n",
    "print(\"Training set shape:\", X_train_scaled.shape)\n",
    "print(\"Test set shape:\", X_test_scaled.shape)"
   ]
  },
  {
   "cell_type": "code",
   "execution_count": 235,
   "id": "956f1b49-684a-4db1-9a67-45b537bfd414",
   "metadata": {},
   "outputs": [
    {
     "data": {
      "text/plain": [
       "array([[ 0.47222651, -1.0246016 , -1.75652513,  0.73433626, -0.50874702,\n",
       "        -0.45611589],\n",
       "       [ 0.54331294, -1.0246016 , -1.03308239, -0.91119211, -0.50874702,\n",
       "        -1.35325561],\n",
       "       [ 0.8987451 , -1.0246016 , -0.94368672, -0.91119211, -0.50874702,\n",
       "         0.44102382],\n",
       "       ...,\n",
       "       [ 1.3252637 ,  0.97598911, -0.89153925, -0.91119211, -0.50874702,\n",
       "        -1.35325561],\n",
       "       [-0.16755139, -1.0246016 ,  2.82086429,  0.73433626,  1.96561348,\n",
       "         1.33816354],\n",
       "       [ 1.1120044 ,  0.97598911, -0.10932713, -0.91119211, -0.50874702,\n",
       "         1.33816354]])"
      ]
     },
     "execution_count": 235,
     "metadata": {},
     "output_type": "execute_result"
    }
   ],
   "source": [
    "X_train_scaled"
   ]
  },
  {
   "cell_type": "code",
   "execution_count": null,
   "id": "47762cde-5a5b-4792-9a62-c5603d57c3a1",
   "metadata": {},
   "outputs": [],
   "source": []
  },
  {
   "cell_type": "code",
   "execution_count": 237,
   "id": "ce51c54f-d653-43f0-ada0-69d688dd9b94",
   "metadata": {},
   "outputs": [
    {
     "data": {
      "text/plain": [
       "array([[ 0.40114007, -1.0246016 , -0.89153925,  0.73433626, -0.50874702,\n",
       "        -1.35325561],\n",
       "       [-0.23863782, -1.0246016 , -0.08946143, -0.91119211, -0.50874702,\n",
       "        -0.45611589],\n",
       "       [ 1.75178229, -1.0246016 , -0.60845296, -0.91119211,  1.96561348,\n",
       "        -0.45611589],\n",
       "       ...,\n",
       "       [-0.09646495,  0.97598911, -0.41972876, -0.08842793, -0.50874702,\n",
       "        -1.35325561],\n",
       "       [ 1.04091797, -1.0246016 ,  2.78941026, -0.91119211,  1.96561348,\n",
       "         0.44102382],\n",
       "       [ 0.82765867, -1.0246016 ,  0.60252728, -0.08842793, -0.50874702,\n",
       "         1.33816354]])"
      ]
     },
     "execution_count": 237,
     "metadata": {},
     "output_type": "execute_result"
    }
   ],
   "source": [
    "X_test_scaled"
   ]
  },
  {
   "cell_type": "code",
   "execution_count": null,
   "id": "a88e55ea-c377-42eb-8ead-c3ef86db3270",
   "metadata": {},
   "outputs": [],
   "source": []
  },
  {
   "cell_type": "markdown",
   "id": "d511e021-c861-444f-9bb0-a76b325ac473",
   "metadata": {},
   "source": [
    "### Model Implementation \n",
    "\n"
   ]
  },
  {
   "cell_type": "code",
   "execution_count": null,
   "id": "c81940ab-a457-435e-bb07-f6b82955d082",
   "metadata": {},
   "outputs": [],
   "source": []
  },
  {
   "cell_type": "markdown",
   "id": "ba9cbfa7-410a-4271-bef8-c54917fe2d99",
   "metadata": {},
   "source": [
    "### Logistics Regression  : "
   ]
  },
  {
   "cell_type": "code",
   "execution_count": 66,
   "id": "91c8c1fd-6844-4abb-8ef3-6dbb52ad0ccc",
   "metadata": {},
   "outputs": [
    {
     "name": "stdout",
     "output_type": "stream",
     "text": [
      "Linear Regression Performance on Original Charges:\n",
      "MSE: 23480607.26\n",
      "RMSE: 4845.68\n",
      "MAE: 3320.56\n",
      "R²: 0.78\n"
     ]
    }
   ],
   "source": [
    "from sklearn.linear_model import LinearRegression\n",
    "from sklearn.metrics import mean_squared_error, mean_absolute_error, r2_score\n",
    "import numpy as np\n",
    "\n",
    "LR = LinearRegression()\n",
    "LR.fit(X_train_scaled, y_train)\n",
    "\n",
    "y_pred = LR.predict(X_test_scaled)\n",
    "\n",
    "mse = mean_squared_error(y_test, y_pred)\n",
    "rmse = np.sqrt(mse)\n",
    "mae = mean_absolute_error(y_test, y_pred)\n",
    "r2 = r2_score(y_test, y_pred)\n",
    "\n",
    "print(\"Linear Regression Performance on Original Charges:\")\n",
    "print(f\"MSE: {mse:.2f}\")\n",
    "print(f\"RMSE: {rmse:.2f}\")\n",
    "print(f\"MAE: {mae:.2f}\")\n",
    "print(f\"R²: {r2:.2f}\")\n"
   ]
  },
  {
   "cell_type": "code",
   "execution_count": null,
   "id": "fbe1dc46-95d4-4882-935b-ba5a5622e9c5",
   "metadata": {},
   "outputs": [],
   "source": []
  },
  {
   "cell_type": "markdown",
   "id": "f06f8008-8dea-4152-9395-87398b0ec629",
   "metadata": {},
   "source": [
    "### Support Vector Regressor (SVR)"
   ]
  },
  {
   "cell_type": "code",
   "execution_count": null,
   "id": "8eaf806d-340a-4b18-833e-216b74db81f2",
   "metadata": {},
   "outputs": [],
   "source": []
  },
  {
   "cell_type": "code",
   "execution_count": 68,
   "id": "a4574f1d-9c40-4db4-b873-b36d0716ebd9",
   "metadata": {},
   "outputs": [
    {
     "name": "stdout",
     "output_type": "stream",
     "text": [
      "Support Vector Regressor Performance on Original Charges:\n",
      "MSE: 114268172.26\n",
      "RMSE: 10689.63\n",
      "MAE: 7761.07\n",
      "R²: -0.05\n"
     ]
    }
   ],
   "source": [
    "from sklearn.svm import SVR\n",
    "from sklearn.metrics import mean_squared_error, mean_absolute_error, r2_score\n",
    "import numpy as np\n",
    "\n",
    "SVR_model = SVR()\n",
    "SVR_model.fit(X_train_scaled, y_train)\n",
    "\n",
    "y_pred = SVR_model.predict(X_test_scaled)\n",
    "\n",
    "mse = mean_squared_error(y_test, y_pred)\n",
    "rmse = np.sqrt(mse)\n",
    "mae = mean_absolute_error(y_test, y_pred)\n",
    "r2 = r2_score(y_test, y_pred)\n",
    "\n",
    "print(\"Support Vector Regressor Performance on Original Charges:\")\n",
    "print(f\"MSE: {mse:.2f}\")\n",
    "print(f\"RMSE: {rmse:.2f}\")\n",
    "print(f\"MAE: {mae:.2f}\")\n",
    "print(f\"R²: {r2:.2f}\")\n"
   ]
  },
  {
   "cell_type": "code",
   "execution_count": null,
   "id": "7dbe7982-18de-4929-b94e-fab2cd1d9e5a",
   "metadata": {},
   "outputs": [],
   "source": []
  },
  {
   "cell_type": "markdown",
   "id": "9b93d007-1a32-456d-96ca-1848720cb806",
   "metadata": {},
   "source": [
    "### K-Nearest Neighbors Regressor (KNN)"
   ]
  },
  {
   "cell_type": "code",
   "execution_count": 70,
   "id": "ec1a316f-9f1a-4db4-b23c-4477212dab7a",
   "metadata": {},
   "outputs": [
    {
     "name": "stdout",
     "output_type": "stream",
     "text": [
      "K-Nearest Neighbors Regressor Performance on Original Charges:\n",
      "MSE: 22786925.33\n",
      "RMSE: 4773.57\n",
      "MAE: 2767.00\n",
      "R²: 0.79\n"
     ]
    }
   ],
   "source": [
    "from sklearn.neighbors import KNeighborsRegressor\n",
    "from sklearn.metrics import mean_squared_error, mean_absolute_error, r2_score\n",
    "import numpy as np\n",
    "\n",
    "KNN = KNeighborsRegressor()\n",
    "KNN.fit(X_train_scaled, y_train)\n",
    "\n",
    "y_pred = KNN.predict(X_test_scaled)\n",
    "\n",
    "mse = mean_squared_error(y_test, y_pred)\n",
    "rmse = np.sqrt(mse)\n",
    "mae = mean_absolute_error(y_test, y_pred)\n",
    "r2 = r2_score(y_test, y_pred)\n",
    "\n",
    "print(\"K-Nearest Neighbors Regressor Performance on Original Charges:\")\n",
    "print(f\"MSE: {mse:.2f}\")\n",
    "print(f\"RMSE: {rmse:.2f}\")\n",
    "print(f\"MAE: {mae:.2f}\")\n",
    "print(f\"R²: {r2:.2f}\")\n"
   ]
  },
  {
   "cell_type": "code",
   "execution_count": null,
   "id": "6791e5fb-630e-4fa4-b0d1-8213b8c6a93b",
   "metadata": {},
   "outputs": [],
   "source": []
  },
  {
   "cell_type": "markdown",
   "id": "173256c5-acfe-47a8-b7c1-849a9893885d",
   "metadata": {},
   "source": [
    "###  Random Forest Regressor"
   ]
  },
  {
   "cell_type": "code",
   "execution_count": 72,
   "id": "85478b8e-562c-4e5e-8dde-749bccf8906a",
   "metadata": {},
   "outputs": [
    {
     "name": "stdout",
     "output_type": "stream",
     "text": [
      "Random Forest Performance on Original Charges:\n",
      "MSE: 17670658.16\n",
      "RMSE: 4203.65\n",
      "MAE: 2148.17\n",
      "R²: 0.84\n"
     ]
    }
   ],
   "source": [
    "from sklearn.ensemble import RandomForestRegressor\n",
    "from sklearn.metrics import mean_squared_error, mean_absolute_error, r2_score\n",
    "import numpy as np\n",
    "\n",
    "RF = RandomForestRegressor(random_state=42)\n",
    "RF.fit(X_train_scaled, y_train)\n",
    "\n",
    "y_pred = RF.predict(X_test_scaled)\n",
    "\n",
    "mse = mean_squared_error(y_test, y_pred)\n",
    "rmse = np.sqrt(mse)\n",
    "mae = mean_absolute_error(y_test, y_pred)\n",
    "r2 = r2_score(y_test, y_pred)\n",
    "\n",
    "print(\"Random Forest Performance on Original Charges:\")\n",
    "print(f\"MSE: {mse:.2f}\")\n",
    "print(f\"RMSE: {rmse:.2f}\")\n",
    "print(f\"MAE: {mae:.2f}\")\n",
    "print(f\"R²: {r2:.2f}\")\n"
   ]
  },
  {
   "cell_type": "code",
   "execution_count": null,
   "id": "595d995b-ef78-4df5-9d2d-5782a3b9c1cf",
   "metadata": {},
   "outputs": [],
   "source": []
  },
  {
   "cell_type": "code",
   "execution_count": null,
   "id": "5eea4297-4691-44b7-b5c6-35a44b452e74",
   "metadata": {},
   "outputs": [],
   "source": []
  },
  {
   "cell_type": "markdown",
   "id": "5c99e9dd-78a9-4a2c-89f8-976dec6c232e",
   "metadata": {},
   "source": [
    "### Gradient Boosting Regressor"
   ]
  },
  {
   "cell_type": "code",
   "execution_count": 74,
   "id": "2f531c0e-e758-4911-9431-3558aad8470f",
   "metadata": {},
   "outputs": [
    {
     "name": "stdout",
     "output_type": "stream",
     "text": [
      "Gradient Boosting Regressor Performance on Original Charges:\n",
      "MSE: 16793740.70\n",
      "RMSE: 4098.02\n",
      "MAE: 2169.58\n",
      "R²: 0.85\n"
     ]
    }
   ],
   "source": [
    "from sklearn.ensemble import GradientBoostingRegressor\n",
    "from sklearn.metrics import mean_squared_error, mean_absolute_error, r2_score\n",
    "import numpy as np\n",
    "\n",
    "GB = GradientBoostingRegressor(random_state=42)\n",
    "GB.fit(X_train_scaled, y_train)\n",
    "\n",
    "y_pred = GB.predict(X_test_scaled)\n",
    "\n",
    "mse = mean_squared_error(y_test, y_pred)\n",
    "rmse = np.sqrt(mse)\n",
    "mae = mean_absolute_error(y_test, y_pred)\n",
    "r2 = r2_score(y_test, y_pred)\n",
    "\n",
    "print(\"Gradient Boosting Regressor Performance on Original Charges:\")\n",
    "print(f\"MSE: {mse:.2f}\")\n",
    "print(f\"RMSE: {rmse:.2f}\")\n",
    "print(f\"MAE: {mae:.2f}\")\n",
    "print(f\"R²: {r2:.2f}\")\n"
   ]
  },
  {
   "cell_type": "code",
   "execution_count": null,
   "id": "d3271be7-df07-4772-85a5-6bd27294fb24",
   "metadata": {},
   "outputs": [],
   "source": []
  },
  {
   "cell_type": "code",
   "execution_count": null,
   "id": "e07ef4ab-24c3-498d-b38d-d0196dbddc8c",
   "metadata": {},
   "outputs": [],
   "source": []
  },
  {
   "cell_type": "markdown",
   "id": "b19847a4-7265-4281-9b68-32ffd657e3e5",
   "metadata": {},
   "source": [
    "### XGBoost Regressor"
   ]
  },
  {
   "cell_type": "code",
   "execution_count": 76,
   "id": "701b306e-0630-450f-b21f-99cada09d2d3",
   "metadata": {},
   "outputs": [
    {
     "name": "stdout",
     "output_type": "stream",
     "text": [
      "XGBoost Regressor Performance on Original Charges:\n",
      "MSE: 22048144.28\n",
      "RMSE: 4695.55\n",
      "MAE: 2606.08\n",
      "R²: 0.80\n"
     ]
    }
   ],
   "source": [
    "import xgboost as xgb\n",
    "from sklearn.metrics import mean_squared_error, mean_absolute_error, r2_score\n",
    "import numpy as np\n",
    "\n",
    "XGB = xgb.XGBRegressor(random_state=42, eval_metric='rmse')\n",
    "XGB.fit(X_train_scaled, y_train)\n",
    "\n",
    "y_pred = XGB.predict(X_test_scaled)\n",
    "\n",
    "mse = mean_squared_error(y_test, y_pred)\n",
    "rmse = np.sqrt(mse)\n",
    "mae = mean_absolute_error(y_test, y_pred)\n",
    "r2 = r2_score(y_test, y_pred)\n",
    "\n",
    "print(\"XGBoost Regressor Performance on Original Charges:\")\n",
    "print(f\"MSE: {mse:.2f}\")\n",
    "print(f\"RMSE: {rmse:.2f}\")\n",
    "print(f\"MAE: {mae:.2f}\")\n",
    "print(f\"R²: {r2:.2f}\")\n"
   ]
  },
  {
   "cell_type": "code",
   "execution_count": null,
   "id": "4173cfb9-84dc-4647-aa6e-d9cb3acadc11",
   "metadata": {},
   "outputs": [],
   "source": []
  },
  {
   "cell_type": "code",
   "execution_count": null,
   "id": "9e6cca1a-2f88-4d2c-9661-807c2ab79778",
   "metadata": {},
   "outputs": [],
   "source": []
  },
  {
   "cell_type": "markdown",
   "id": "f6bd1ac1-d56b-4a68-9d57-6be55f564bb3",
   "metadata": {},
   "source": [
    "### Decision Tree Regressor "
   ]
  },
  {
   "cell_type": "code",
   "execution_count": 78,
   "id": "8df9ecdb-35c5-433e-a863-9bf559201a46",
   "metadata": {},
   "outputs": [
    {
     "name": "stdout",
     "output_type": "stream",
     "text": [
      "Decision Tree Regressor Performance:\n",
      "MSE: 31208871.32\n",
      "RMSE: 5586.49\n",
      "MAE: 2311.70\n",
      "R²: 0.71\n"
     ]
    }
   ],
   "source": [
    "from sklearn.tree import DecisionTreeRegressor\n",
    "from sklearn.metrics import mean_squared_error, mean_absolute_error, r2_score\n",
    "import numpy as np\n",
    "\n",
    "dt = DecisionTreeRegressor(random_state=42)\n",
    "dt.fit(X_train_scaled, y_train)\n",
    "\n",
    "y_pred = dt.predict(X_test_scaled)\n",
    "\n",
    "mse = mean_squared_error(y_test, y_pred)\n",
    "rmse = np.sqrt(mse)\n",
    "mae = mean_absolute_error(y_test, y_pred)\n",
    "r2 = r2_score(y_test, y_pred)\n",
    "\n",
    "print(\"Decision Tree Regressor Performance:\")\n",
    "print(f\"MSE: {mse:.2f}\")\n",
    "print(f\"RMSE: {rmse:.2f}\")\n",
    "print(f\"MAE: {mae:.2f}\")\n",
    "print(f\"R²: {r2:.2f}\")\n"
   ]
  },
  {
   "cell_type": "code",
   "execution_count": null,
   "id": "bb4d7f08-5112-4cf5-a9ce-406fa7c604f0",
   "metadata": {},
   "outputs": [],
   "source": []
  },
  {
   "cell_type": "markdown",
   "id": "cd10eb33-9002-4a81-b100-525bd7e19bab",
   "metadata": {},
   "source": [
    "Summary : -"
   ]
  },
  {
   "cell_type": "markdown",
   "id": "f9a24eaf-bcfe-47ca-aaa5-c4e7e4337c4f",
   "metadata": {},
   "source": [
    "| **Model**                    | **RMSE** | **MAE** | **R²** | **Comments**                                |\n",
    "| ---------------------------- | -------- | ------- | ------ | ------------------------------------------- |\n",
    "| **Linear Regression**        | 4845.68  | 3320.56 | 0.78   | Good baseline                               |\n",
    "| **Support Vector Regressor** | 10689.63 | 7761.07 | -0.05  | Poor fit, possibly underfitting             |\n",
    "| **K-Nearest Neighbors**      | 4773.57  | 2767.00 | 0.79   | Slightly better than Linear Regression      |\n",
    "| **Random Forest**            | 4223.16  | 2170.62 | 0.84   | Strong performance, robust model            |\n",
    "| **Gradient Boosting**        | 4098.01  | 2169.55 | 0.85   | Best performance overall                    |\n",
    "| **XGBoost**                  | 4695.55  | 2606.08 | 0.80   | Good, but slightly behind Gradient Boosting |\n",
    "| **Decision Tree**            | 5731.19  | 2387.23 | 0.70   | Overfits, weaker generalization             |\n"
   ]
  },
  {
   "cell_type": "code",
   "execution_count": null,
   "id": "a6ee6e69-6ee7-4f4a-9835-e23cc3f1abee",
   "metadata": {},
   "outputs": [],
   "source": []
  },
  {
   "cell_type": "markdown",
   "id": "3550d6db-bbe4-4a25-91b2-b0ab3a9d0d8e",
   "metadata": {},
   "source": [
    "### Hyperparmeters Tunning "
   ]
  },
  {
   "cell_type": "code",
   "execution_count": null,
   "id": "df487b65-5eeb-4cd5-ab57-1d9e28a72a15",
   "metadata": {},
   "outputs": [],
   "source": []
  },
  {
   "cell_type": "code",
   "execution_count": 84,
   "id": "41502531-7ae1-4f72-8488-a5482c9d4167",
   "metadata": {},
   "outputs": [
    {
     "name": "stdout",
     "output_type": "stream",
     "text": [
      "Running GridSearchCV for LinearRegression ...\n",
      "Best params for LinearRegression: {}\n",
      "\n",
      "Running GridSearchCV for SVR ...\n",
      "Best params for SVR: {'C': 10, 'gamma': 'scale', 'kernel': 'linear'}\n",
      "\n",
      "Running GridSearchCV for KNeighborsRegressor ...\n",
      "Best params for KNeighborsRegressor: {'n_neighbors': 9, 'p': 2, 'weights': 'distance'}\n",
      "\n",
      "Running GridSearchCV for RandomForestRegressor ...\n",
      "Best params for RandomForestRegressor: {'max_depth': 10, 'min_samples_split': 10, 'n_estimators': 50}\n",
      "\n",
      "Running GridSearchCV for GradientBoostingRegressor ...\n",
      "Best params for GradientBoostingRegressor: {'learning_rate': 0.05, 'max_depth': 3, 'n_estimators': 100}\n",
      "\n",
      "Running GridSearchCV for XGBRegressor ...\n",
      "Best params for XGBRegressor: {'learning_rate': 0.05, 'max_depth': 3, 'n_estimators': 100, 'subsample': 1.0}\n",
      "\n",
      "Running GridSearchCV for DecisionTreeRegressor ...\n",
      "Best params for DecisionTreeRegressor: {'max_depth': 5, 'min_samples_split': 5}\n",
      "\n",
      "--- LinearRegression Performance Report ---\n",
      "Mean Squared Error (MSE): 23480607.26\n",
      "Root Mean Squared Error (RMSE): 4845.68\n",
      "Mean Absolute Error (MAE): 3320.56\n",
      "R-squared (R²): 0.78\n",
      "\n",
      "--- SVR Performance Report ---\n",
      "Mean Squared Error (MSE): 43907700.37\n",
      "Root Mean Squared Error (RMSE): 6626.29\n",
      "Mean Absolute Error (MAE): 3355.84\n",
      "R-squared (R²): 0.60\n",
      "\n",
      "--- KNeighborsRegressor Performance Report ---\n",
      "Mean Squared Error (MSE): 21268393.23\n",
      "Root Mean Squared Error (RMSE): 4611.77\n",
      "Mean Absolute Error (MAE): 2658.15\n",
      "R-squared (R²): 0.80\n",
      "\n",
      "--- RandomForestRegressor Performance Report ---\n",
      "Mean Squared Error (MSE): 17377583.97\n",
      "Root Mean Squared Error (RMSE): 4168.64\n",
      "Mean Absolute Error (MAE): 2180.78\n",
      "R-squared (R²): 0.84\n",
      "\n",
      "--- GradientBoostingRegressor Performance Report ---\n",
      "Mean Squared Error (MSE): 16642248.09\n",
      "Root Mean Squared Error (RMSE): 4079.49\n",
      "Mean Absolute Error (MAE): 2213.22\n",
      "R-squared (R²): 0.85\n",
      "\n",
      "--- XGBRegressor Performance Report ---\n",
      "Mean Squared Error (MSE): 16334918.16\n",
      "Root Mean Squared Error (RMSE): 4041.65\n",
      "Mean Absolute Error (MAE): 2213.71\n",
      "R-squared (R²): 0.85\n",
      "\n",
      "--- DecisionTreeRegressor Performance Report ---\n",
      "Mean Squared Error (MSE): 18164437.01\n",
      "Root Mean Squared Error (RMSE): 4261.98\n",
      "Mean Absolute Error (MAE): 2358.64\n",
      "R-squared (R²): 0.83\n",
      "\n"
     ]
    }
   ],
   "source": [
    "from sklearn.model_selection import GridSearchCV\n",
    "from sklearn.linear_model import LinearRegression\n",
    "from sklearn.svm import SVR\n",
    "from sklearn.neighbors import KNeighborsRegressor\n",
    "from sklearn.ensemble import RandomForestRegressor, GradientBoostingRegressor\n",
    "from xgboost import XGBRegressor\n",
    "from sklearn.tree import DecisionTreeRegressor\n",
    "\n",
    "# Define parameter grids for each model\n",
    "param_grids = {\n",
    "    'LinearRegression': {},  # no hyperparams to tune typically\n",
    "\n",
    "    'SVR': {\n",
    "        'kernel': ['rbf', 'linear'],\n",
    "        'C': [0.1, 1, 10],\n",
    "        'gamma': ['scale', 'auto']\n",
    "    },\n",
    "\n",
    "    'KNeighborsRegressor': {\n",
    "        'n_neighbors': [3, 5, 7, 9],\n",
    "        'weights': ['uniform', 'distance'],\n",
    "        'p': [1, 2]  # Manhattan and Euclidean distances\n",
    "    },\n",
    "\n",
    "    'RandomForestRegressor': {\n",
    "        'n_estimators': [50, 100, 200],\n",
    "        'max_depth': [None, 10, 20, 30],\n",
    "        'min_samples_split': [2, 5, 10]\n",
    "    },\n",
    "\n",
    "    'GradientBoostingRegressor': {\n",
    "        'n_estimators': [100, 200],\n",
    "        'learning_rate': [0.05, 0.1, 0.2],\n",
    "        'max_depth': [3, 5, 7]\n",
    "    },\n",
    "\n",
    "    'XGBRegressor': {\n",
    "        'n_estimators': [100, 200],\n",
    "        'learning_rate': [0.05, 0.1, 0.2],\n",
    "        'max_depth': [3, 5, 7],\n",
    "        'subsample': [0.7, 1.0]\n",
    "    },\n",
    "\n",
    "    'DecisionTreeRegressor': {\n",
    "        'max_depth': [None, 5, 10, 20],\n",
    "        'min_samples_split': [2, 5, 10]\n",
    "    }\n",
    "}\n",
    "\n",
    "# Instantiate models\n",
    "models = {\n",
    "    'LinearRegression': LinearRegression(),\n",
    "    'SVR': SVR(),\n",
    "    'KNeighborsRegressor': KNeighborsRegressor(),\n",
    "    'RandomForestRegressor': RandomForestRegressor(random_state=42),\n",
    "    'GradientBoostingRegressor': GradientBoostingRegressor(random_state=42),\n",
    "    'XGBRegressor': XGBRegressor(random_state=42, eval_metric='rmse'),\n",
    "    'DecisionTreeRegressor': DecisionTreeRegressor(random_state=42)\n",
    "}\n",
    "\n",
    "# Run GridSearchCV for each model\n",
    "best_models = {}\n",
    "for name, model in models.items():\n",
    "    print(f\"Running GridSearchCV for {name} ...\")\n",
    "    grid = GridSearchCV(estimator=model, param_grid=param_grids[name], cv=5, n_jobs=-1, scoring='neg_mean_squared_error')\n",
    "    grid.fit(X_train_scaled, y_train)  # assuming X_train_scaled and y_train are defined\n",
    "    best_models[name] = grid.best_estimator_\n",
    "    print(f\"Best params for {name}: {grid.best_params_}\\n\")\n",
    "\n",
    "# After this, you can evaluate the best models on test set using:\n",
    "from sklearn.metrics import mean_squared_error, mean_absolute_error, r2_score\n",
    "import numpy as np\n",
    "\n",
    "for name, best_model in best_models.items():\n",
    "    y_pred = best_model.predict(X_test_scaled)\n",
    "    mse = mean_squared_error(y_test, y_pred)\n",
    "    rmse = np.sqrt(mse)\n",
    "    mae = mean_absolute_error(y_test, y_pred)\n",
    "    r2 = r2_score(y_test, y_pred)\n",
    "    print(f\"--- {name} Performance Report ---\")\n",
    "    print(f\"Mean Squared Error (MSE): {mse:.2f}\")\n",
    "    print(f\"Root Mean Squared Error (RMSE): {rmse:.2f}\")\n",
    "    print(f\"Mean Absolute Error (MAE): {mae:.2f}\")\n",
    "    print(f\"R-squared (R²): {r2:.2f}\\n\")\n"
   ]
  },
  {
   "cell_type": "code",
   "execution_count": null,
   "id": "70c1dbb5-882c-4c70-a33d-0d804d5df7ce",
   "metadata": {},
   "outputs": [],
   "source": []
  },
  {
   "cell_type": "markdown",
   "id": "34f19e64-b3f0-4230-bd56-da4802ff9e1e",
   "metadata": {},
   "source": [
    "### Hyperparmeter Comparsion Table"
   ]
  },
  {
   "cell_type": "markdown",
   "id": "1e211c94-d212-4326-8455-7b43c7f30672",
   "metadata": {},
   "source": [
    "| **Model**                    | **RMSE Before** | **RMSE After** | **R² Before** | **R² After** | **Comments**                         |\n",
    "| ---------------------------- | --------------- | -------------- | ------------- | ------------ | ------------------------------------ |\n",
    "| **Linear Regression**        | 4845.68         | 4845.68        | 0.78          | 0.78         | Baseline, no change                  |\n",
    "| **Support Vector Regressor** | 10689.63        | 6626.29        | -0.05         | 0.60         | Significant improvement after tuning |\n",
    "| **K-Nearest Neighbors**      | 4773.57         | 4611.77        | 0.79          | 0.80         | Slight improvement                   |\n",
    "| **Random Forest**            | 4223.16         | 4168.64        | 0.84          | 0.84         | Marginal improvement                 |\n",
    "| **Gradient Boosting**        | 4098.01         | 4079.49        | 0.85          | 0.85         | Slight improvement                   |\n",
    "| **XGBoost**                  | 4695.55         | 4041.65        | 0.80          | 0.85         | Good improvement                     |\n",
    "| **Decision Tree**            | 5731.19         | 4261.98        | 0.70          | 0.83         | Substantial improvement after tuning |\n"
   ]
  },
  {
   "cell_type": "markdown",
   "id": "77a3186e-b130-4cf9-8aa0-82620840dfd3",
   "metadata": {},
   "source": [
    "### Summarry  "
   ]
  },
  {
   "cell_type": "code",
   "execution_count": null,
   "id": "23f1005c-55c0-44fe-975f-2790793b1224",
   "metadata": {},
   "outputs": [],
   "source": []
  },
  {
   "cell_type": "markdown",
   "id": "8deae75c-f677-4e0c-a118-0cb7588118a6",
   "metadata": {},
   "source": [
    "XGBoost showed the best improvement with R² increasing from 0.80 to 0.85 and lower RMSE.\n",
    "\n",
    "XGBoost and Gradient Boosting are the best models"
   ]
  },
  {
   "cell_type": "code",
   "execution_count": null,
   "id": "c7e53cf9-07ff-4ddc-abb7-dfd099fca2f4",
   "metadata": {},
   "outputs": [],
   "source": []
  },
  {
   "cell_type": "markdown",
   "id": "6229f535-1f65-4723-a1c7-2dc7d4aa5fe1",
   "metadata": {},
   "source": [
    "# Task 3: Pipeline Creation and Model Evaluation\n"
   ]
  },
  {
   "cell_type": "code",
   "execution_count": null,
   "id": "9d54c93e-5475-4d95-86af-40ebf8492e3a",
   "metadata": {},
   "outputs": [],
   "source": []
  },
  {
   "cell_type": "code",
   "execution_count": null,
   "id": "cc05d82f-efe7-4dfb-84dd-805f7e9bd88b",
   "metadata": {},
   "outputs": [],
   "source": []
  },
  {
   "cell_type": "markdown",
   "id": "bd373bca-d274-4c75-8f3f-a514ab2c06f3",
   "metadata": {},
   "source": [
    "### Automate pipeline "
   ]
  },
  {
   "cell_type": "code",
   "execution_count": null,
   "id": "effe92b6-857b-4b64-b0d7-b56cd45903fb",
   "metadata": {},
   "outputs": [],
   "source": []
  },
  {
   "cell_type": "markdown",
   "id": "bd9bf828-2c4e-4f1d-b8e3-950a6dce97b4",
   "metadata": {},
   "source": [
    "### Import Required Libraries"
   ]
  },
  {
   "cell_type": "code",
   "execution_count": 294,
   "id": "492d99d1-a449-4e67-88ce-a2c5476fc092",
   "metadata": {},
   "outputs": [],
   "source": [
    "import pandas as pd\n",
    "import numpy as np\n",
    "from sklearn.pipeline import Pipeline\n",
    "from sklearn.preprocessing import StandardScaler, OneHotEncoder\n",
    "from sklearn.compose import ColumnTransformer\n",
    "from xgboost import XGBRegressor\n",
    "from sklearn.model_selection import train_test_split\n",
    "from sklearn.base import BaseEstimator, TransformerMixin\n",
    "import pickle\n"
   ]
  },
  {
   "cell_type": "code",
   "execution_count": null,
   "id": "6e0cad02-2fdc-4c64-9a61-ddbc6c9db0b1",
   "metadata": {},
   "outputs": [],
   "source": []
  },
  {
   "cell_type": "markdown",
   "id": "77c804c1-05fc-4ef8-a59e-45a2d18776e8",
   "metadata": {},
   "source": [
    "### Load Insurance Dataset"
   ]
  },
  {
   "cell_type": "code",
   "execution_count": 297,
   "id": "03262252-bdfc-4b30-bc01-69fc7095c6a9",
   "metadata": {},
   "outputs": [],
   "source": [
    "data = pd.read_csv('insurance_dataset.csv')\n"
   ]
  },
  {
   "cell_type": "code",
   "execution_count": null,
   "id": "109fd8a9-c311-4b6c-a565-51d0ccb8e2c3",
   "metadata": {},
   "outputs": [],
   "source": []
  },
  {
   "cell_type": "markdown",
   "id": "0a9f8baf-0115-48bd-8cd3-177cf3d09303",
   "metadata": {},
   "source": [
    "### Handle Outliers "
   ]
  },
  {
   "cell_type": "code",
   "execution_count": 301,
   "id": "0d227034-6610-4f70-992f-94dd63522a80",
   "metadata": {},
   "outputs": [],
   "source": [
    "def cap_outliers(df, col):\n",
    "    Q1 = df[col].quantile(0.25)\n",
    "    Q3 = df[col].quantile(0.75)\n",
    "    IQR = Q3 - Q1\n",
    "    lower_bound = Q1 - 1.5 * IQR\n",
    "    upper_bound = Q3 + 1.5 * IQR\n",
    "    df[col] = df[col].clip(lower=lower_bound, upper=upper_bound)\n",
    "    return df\n",
    "\n",
    "for col in ['bmi', 'charges']:\n",
    "    data = cap_outliers(data, col)\n"
   ]
  },
  {
   "cell_type": "code",
   "execution_count": null,
   "id": "fa2bbdb6-354b-419d-aecf-b7d9ac6cc917",
   "metadata": {},
   "outputs": [],
   "source": []
  },
  {
   "cell_type": "markdown",
   "id": "03c6856d-e4df-47aa-89dd-3745cf6eee61",
   "metadata": {},
   "source": [
    "### Define Features and Target Variable"
   ]
  },
  {
   "cell_type": "code",
   "execution_count": 304,
   "id": "a297af96-2a2e-4987-bb1e-1d5330f676c0",
   "metadata": {},
   "outputs": [],
   "source": [
    "X = data.drop(columns=['charges'])\n",
    "y = data['charges']\n"
   ]
  },
  {
   "cell_type": "code",
   "execution_count": null,
   "id": "de8fa4bf-fcdf-462a-8a6a-c63612d14b3b",
   "metadata": {},
   "outputs": [],
   "source": []
  },
  {
   "cell_type": "markdown",
   "id": "1d8dea42-2356-47f8-8b4d-131fd6767a83",
   "metadata": {},
   "source": [
    "### Convert Categorical Variables to Strings"
   ]
  },
  {
   "cell_type": "code",
   "execution_count": 306,
   "id": "36983492-c105-48cf-a78a-ad07de569241",
   "metadata": {},
   "outputs": [],
   "source": [
    "categorical_features = ['sex', 'smoker', 'region']\n",
    "for col in categorical_features:\n",
    "    X[col] = X[col].astype(str)\n"
   ]
  },
  {
   "cell_type": "code",
   "execution_count": null,
   "id": "eb2c6c24-9282-406b-bc13-c8b688860ca8",
   "metadata": {},
   "outputs": [],
   "source": []
  },
  {
   "cell_type": "markdown",
   "id": "a63fe295-3766-420e-aba0-125419ec6716",
   "metadata": {},
   "source": [
    "### Split Data into Training and Test Sets"
   ]
  },
  {
   "cell_type": "code",
   "execution_count": 312,
   "id": "abd0bd1d-ad22-4f1c-95a3-54bc2b078b9c",
   "metadata": {},
   "outputs": [],
   "source": [
    "X_train, X_test, y_train, y_test = train_test_split(X, y, test_size=0.2, random_state=42)\n"
   ]
  },
  {
   "cell_type": "code",
   "execution_count": null,
   "id": "b170a3fa-6b2c-4282-bd9c-7bbb6d6de68f",
   "metadata": {},
   "outputs": [],
   "source": []
  },
  {
   "cell_type": "markdown",
   "id": "4fea45a7-73ed-4a34-a935-20adc0681b54",
   "metadata": {},
   "source": [
    "### Build Preprocessing Pipeline"
   ]
  },
  {
   "cell_type": "code",
   "execution_count": 314,
   "id": "12a9f643-3146-4fea-bcb0-1fe4db2854e9",
   "metadata": {},
   "outputs": [],
   "source": [
    "preprocessor = ColumnTransformer(transformers=[\n",
    "    ('num', StandardScaler(), ['age', 'bmi', 'children']),\n",
    "    ('cat', OneHotEncoder(handle_unknown='ignore'), categorical_features)])\n"
   ]
  },
  {
   "cell_type": "code",
   "execution_count": null,
   "id": "c7697a0c-bfe4-40b6-956e-45efa7ec5af5",
   "metadata": {},
   "outputs": [],
   "source": []
  },
  {
   "cell_type": "markdown",
   "id": "6532d23d-c8b7-430a-8c3b-6c87778661ee",
   "metadata": {},
   "source": [
    "### Create a Custom Transformer"
   ]
  },
  {
   "cell_type": "code",
   "execution_count": 318,
   "id": "2aca6521-675c-4b32-846d-323d9dba8f7f",
   "metadata": {},
   "outputs": [],
   "source": [
    "from sklearn.base import BaseEstimator, TransformerMixin\n",
    "import pandas as pd\n",
    "\n",
    "# --- 7. Custom transformer for categorization and explanation ---\n",
    "class CategorizeAndExplain(BaseEstimator, TransformerMixin):\n",
    "    def __init__(self):\n",
    "        pass\n",
    "\n",
    "    # Categorization logic based on predicted charge and input features\n",
    "    def categorize_charge_with_reason(self, charge, age, smoker, bmi, children):\n",
    "        # Charge level\n",
    "        if charge < 5000:\n",
    "            category = 'Low Charges'\n",
    "        elif charge < 15000:\n",
    "            category = 'Moderate Charges'\n",
    "        else:\n",
    "            category = 'High Charges'\n",
    "\n",
    "        # Age group\n",
    "        if 10 <= age <= 19:\n",
    "            age_desc = \"Teenager\"\n",
    "        elif 20 <= age <= 44:\n",
    "            age_desc = \"Adult\"\n",
    "        else:\n",
    "            age_desc = \"Older\"\n",
    "\n",
    "        # Smoker status\n",
    "        smoker_desc = \"Smoker\" if smoker == '1' or smoker == 1 else \"Non-smoker\"\n",
    "\n",
    "        # BMI interpretation\n",
    "        if bmi < 25:\n",
    "            bmi_desc = \"Healthy BMI\"\n",
    "        elif bmi < 30:\n",
    "            bmi_desc = \"Slightly elevated BMI\"\n",
    "        else:\n",
    "            bmi_desc = \"High BMI\"\n",
    "\n",
    "        # Children category\n",
    "        if children == 0:\n",
    "            child_desc = \"No children\"\n",
    "        elif children <= 2:\n",
    "            child_desc = \"2 children\"\n",
    "        else:\n",
    "            child_desc = \"More than 2 children\"\n",
    "\n",
    "        return category, age_desc, smoker_desc, bmi_desc, child_desc\n",
    "\n",
    "    # Interpret charge percentage\n",
    "    def charge_percentage_reason(self, charge_pct):\n",
    "        pct = int(charge_pct.strip('%'))\n",
    "        if pct <= 10:\n",
    "            return \"Low healthcare cost | very healthy or low risk.\"\n",
    "        elif pct <= 30:\n",
    "            return \"Mostly healthy | low minor risks\"\n",
    "        elif pct <= 50:\n",
    "            return \"Moderate care needed | minor risks.\"\n",
    "        elif pct <= 70:\n",
    "            return \"Higher care needs | high risk.\"\n",
    "        else:\n",
    "            return \"Major healthcare needs | serious risk.\"\n",
    "\n",
    "    def fit(self, X, y=None):\n",
    "        return self\n",
    "\n",
    "    def transform(self, X, y=None):\n",
    "        df = X.copy()\n",
    "\n",
    "        if 'Predicted_Charge' not in df.columns:\n",
    "            raise ValueError(\"Input must contain 'Predicted_Charge' column\")\n",
    "\n",
    "        # Apply categorization logic row-wise\n",
    "        categories_reasons = df.apply(\n",
    "            lambda row: self.categorize_charge_with_reason(\n",
    "                row['Predicted_Charge'],\n",
    "                row['age'],\n",
    "                row['smoker'],\n",
    "                row['bmi'],\n",
    "                row['children']\n",
    "            ),\n",
    "            axis=1,\n",
    "            result_type='expand'\n",
    "        )\n",
    "        categories_reasons.columns = ['Charge_Category', 'Age_Group', 'Smoker_Status', 'BMI_Status', 'Children_Status']\n",
    "\n",
    "        # Concatenate new explanation columns\n",
    "        df = pd.concat([df, categories_reasons], axis=1)\n",
    "\n",
    "        # Calculate percentage of predicted charge relative to the max\n",
    "        max_charge = df['Predicted_Charge'].max()\n",
    "        df['Charge_Percentage'] = ((df['Predicted_Charge'] / max_charge) * 100).round().astype(int).astype(str) + '%'\n",
    "\n",
    "        # Add explanation based on charge percentage\n",
    "        df['Reason'] = df['Charge_Percentage'].apply(self.charge_percentage_reason)\n",
    "\n",
    "        return df\n"
   ]
  },
  {
   "cell_type": "code",
   "execution_count": null,
   "id": "c04df6cc-bdff-4f6d-8c1e-022d47af2533",
   "metadata": {},
   "outputs": [],
   "source": []
  },
  {
   "cell_type": "markdown",
   "id": "f6fd5f6d-fc1f-4560-b7b7-fe98a4e705fe",
   "metadata": {},
   "source": [
    " ### Create a Custom Pipeline with Explanation Layer"
   ]
  },
  {
   "cell_type": "code",
   "execution_count": 321,
   "id": "bd1c7af9-c851-4f98-ac8d-27b3026d94b4",
   "metadata": {},
   "outputs": [],
   "source": [
    "class PredictionWithExplanationPipeline(Pipeline):\n",
    "    def predict(self, X):\n",
    "        preds = super().predict(X)\n",
    "        df = X.copy()\n",
    "        df['Predicted_Charge'] = preds\n",
    "        explainer = CategorizeAndExplain()\n",
    "        return explainer.transform(df)\n"
   ]
  },
  {
   "cell_type": "code",
   "execution_count": null,
   "id": "90e10d1e-d459-4aa2-8bfe-fc3f39fc5f4e",
   "metadata": {},
   "outputs": [],
   "source": []
  },
  {
   "cell_type": "markdown",
   "id": "75a85d5f-7002-4135-b9b6-1e086f552d1a",
   "metadata": {},
   "source": [
    "### Defining the Full Pipeline (Preprocessing + Model)"
   ]
  },
  {
   "cell_type": "code",
   "execution_count": 326,
   "id": "cca6b740-92e3-4f56-ba2d-ce9282ac60e7",
   "metadata": {},
   "outputs": [],
   "source": [
    "pipe_model = Pipeline([\n",
    "    ('preprocessor', preprocessor),\n",
    "    ('regressor', XGBRegressor(\n",
    "        n_estimators=200,\n",
    "        max_depth=4,\n",
    "        learning_rate=0.1,\n",
    "        subsample=0.8,\n",
    "        colsample_bytree=0.8,\n",
    "        random_state=42\n",
    "    ))\n",
    "])\n"
   ]
  },
  {
   "cell_type": "code",
   "execution_count": null,
   "id": "cffcbea6-3b0a-4179-853f-03957e174332",
   "metadata": {},
   "outputs": [],
   "source": []
  },
  {
   "cell_type": "markdown",
   "id": "3bac099c-a621-4534-bad7-4b3908ff1782",
   "metadata": {},
   "source": [
    "### Wrap Model "
   ]
  },
  {
   "cell_type": "code",
   "execution_count": 329,
   "id": "d5c4301b-ed0e-44e5-83d5-c2556e9f2e2e",
   "metadata": {},
   "outputs": [],
   "source": [
    "pipe = PredictionWithExplanationPipeline(steps=pipe_model.steps)\n"
   ]
  },
  {
   "cell_type": "code",
   "execution_count": null,
   "id": "28e078d1-dda7-41f2-8ad7-703fdc822b3a",
   "metadata": {},
   "outputs": [],
   "source": []
  },
  {
   "cell_type": "markdown",
   "id": "e19a36d7-5ee9-40ac-ab4c-32c5f2dec09d",
   "metadata": {},
   "source": [
    "### Train the Model"
   ]
  },
  {
   "cell_type": "code",
   "execution_count": 332,
   "id": "590d2ce0-422c-4948-b7dc-349f528de534",
   "metadata": {},
   "outputs": [
    {
     "data": {
      "text/html": [
       "<style>#sk-container-id-1 {\n",
       "  /* Definition of color scheme common for light and dark mode */\n",
       "  --sklearn-color-text: #000;\n",
       "  --sklearn-color-text-muted: #666;\n",
       "  --sklearn-color-line: gray;\n",
       "  /* Definition of color scheme for unfitted estimators */\n",
       "  --sklearn-color-unfitted-level-0: #fff5e6;\n",
       "  --sklearn-color-unfitted-level-1: #f6e4d2;\n",
       "  --sklearn-color-unfitted-level-2: #ffe0b3;\n",
       "  --sklearn-color-unfitted-level-3: chocolate;\n",
       "  /* Definition of color scheme for fitted estimators */\n",
       "  --sklearn-color-fitted-level-0: #f0f8ff;\n",
       "  --sklearn-color-fitted-level-1: #d4ebff;\n",
       "  --sklearn-color-fitted-level-2: #b3dbfd;\n",
       "  --sklearn-color-fitted-level-3: cornflowerblue;\n",
       "\n",
       "  /* Specific color for light theme */\n",
       "  --sklearn-color-text-on-default-background: var(--sg-text-color, var(--theme-code-foreground, var(--jp-content-font-color1, black)));\n",
       "  --sklearn-color-background: var(--sg-background-color, var(--theme-background, var(--jp-layout-color0, white)));\n",
       "  --sklearn-color-border-box: var(--sg-text-color, var(--theme-code-foreground, var(--jp-content-font-color1, black)));\n",
       "  --sklearn-color-icon: #696969;\n",
       "\n",
       "  @media (prefers-color-scheme: dark) {\n",
       "    /* Redefinition of color scheme for dark theme */\n",
       "    --sklearn-color-text-on-default-background: var(--sg-text-color, var(--theme-code-foreground, var(--jp-content-font-color1, white)));\n",
       "    --sklearn-color-background: var(--sg-background-color, var(--theme-background, var(--jp-layout-color0, #111)));\n",
       "    --sklearn-color-border-box: var(--sg-text-color, var(--theme-code-foreground, var(--jp-content-font-color1, white)));\n",
       "    --sklearn-color-icon: #878787;\n",
       "  }\n",
       "}\n",
       "\n",
       "#sk-container-id-1 {\n",
       "  color: var(--sklearn-color-text);\n",
       "}\n",
       "\n",
       "#sk-container-id-1 pre {\n",
       "  padding: 0;\n",
       "}\n",
       "\n",
       "#sk-container-id-1 input.sk-hidden--visually {\n",
       "  border: 0;\n",
       "  clip: rect(1px 1px 1px 1px);\n",
       "  clip: rect(1px, 1px, 1px, 1px);\n",
       "  height: 1px;\n",
       "  margin: -1px;\n",
       "  overflow: hidden;\n",
       "  padding: 0;\n",
       "  position: absolute;\n",
       "  width: 1px;\n",
       "}\n",
       "\n",
       "#sk-container-id-1 div.sk-dashed-wrapped {\n",
       "  border: 1px dashed var(--sklearn-color-line);\n",
       "  margin: 0 0.4em 0.5em 0.4em;\n",
       "  box-sizing: border-box;\n",
       "  padding-bottom: 0.4em;\n",
       "  background-color: var(--sklearn-color-background);\n",
       "}\n",
       "\n",
       "#sk-container-id-1 div.sk-container {\n",
       "  /* jupyter's `normalize.less` sets `[hidden] { display: none; }`\n",
       "     but bootstrap.min.css set `[hidden] { display: none !important; }`\n",
       "     so we also need the `!important` here to be able to override the\n",
       "     default hidden behavior on the sphinx rendered scikit-learn.org.\n",
       "     See: https://github.com/scikit-learn/scikit-learn/issues/21755 */\n",
       "  display: inline-block !important;\n",
       "  position: relative;\n",
       "}\n",
       "\n",
       "#sk-container-id-1 div.sk-text-repr-fallback {\n",
       "  display: none;\n",
       "}\n",
       "\n",
       "div.sk-parallel-item,\n",
       "div.sk-serial,\n",
       "div.sk-item {\n",
       "  /* draw centered vertical line to link estimators */\n",
       "  background-image: linear-gradient(var(--sklearn-color-text-on-default-background), var(--sklearn-color-text-on-default-background));\n",
       "  background-size: 2px 100%;\n",
       "  background-repeat: no-repeat;\n",
       "  background-position: center center;\n",
       "}\n",
       "\n",
       "/* Parallel-specific style estimator block */\n",
       "\n",
       "#sk-container-id-1 div.sk-parallel-item::after {\n",
       "  content: \"\";\n",
       "  width: 100%;\n",
       "  border-bottom: 2px solid var(--sklearn-color-text-on-default-background);\n",
       "  flex-grow: 1;\n",
       "}\n",
       "\n",
       "#sk-container-id-1 div.sk-parallel {\n",
       "  display: flex;\n",
       "  align-items: stretch;\n",
       "  justify-content: center;\n",
       "  background-color: var(--sklearn-color-background);\n",
       "  position: relative;\n",
       "}\n",
       "\n",
       "#sk-container-id-1 div.sk-parallel-item {\n",
       "  display: flex;\n",
       "  flex-direction: column;\n",
       "}\n",
       "\n",
       "#sk-container-id-1 div.sk-parallel-item:first-child::after {\n",
       "  align-self: flex-end;\n",
       "  width: 50%;\n",
       "}\n",
       "\n",
       "#sk-container-id-1 div.sk-parallel-item:last-child::after {\n",
       "  align-self: flex-start;\n",
       "  width: 50%;\n",
       "}\n",
       "\n",
       "#sk-container-id-1 div.sk-parallel-item:only-child::after {\n",
       "  width: 0;\n",
       "}\n",
       "\n",
       "/* Serial-specific style estimator block */\n",
       "\n",
       "#sk-container-id-1 div.sk-serial {\n",
       "  display: flex;\n",
       "  flex-direction: column;\n",
       "  align-items: center;\n",
       "  background-color: var(--sklearn-color-background);\n",
       "  padding-right: 1em;\n",
       "  padding-left: 1em;\n",
       "}\n",
       "\n",
       "\n",
       "/* Toggleable style: style used for estimator/Pipeline/ColumnTransformer box that is\n",
       "clickable and can be expanded/collapsed.\n",
       "- Pipeline and ColumnTransformer use this feature and define the default style\n",
       "- Estimators will overwrite some part of the style using the `sk-estimator` class\n",
       "*/\n",
       "\n",
       "/* Pipeline and ColumnTransformer style (default) */\n",
       "\n",
       "#sk-container-id-1 div.sk-toggleable {\n",
       "  /* Default theme specific background. It is overwritten whether we have a\n",
       "  specific estimator or a Pipeline/ColumnTransformer */\n",
       "  background-color: var(--sklearn-color-background);\n",
       "}\n",
       "\n",
       "/* Toggleable label */\n",
       "#sk-container-id-1 label.sk-toggleable__label {\n",
       "  cursor: pointer;\n",
       "  display: flex;\n",
       "  width: 100%;\n",
       "  margin-bottom: 0;\n",
       "  padding: 0.5em;\n",
       "  box-sizing: border-box;\n",
       "  text-align: center;\n",
       "  align-items: start;\n",
       "  justify-content: space-between;\n",
       "  gap: 0.5em;\n",
       "}\n",
       "\n",
       "#sk-container-id-1 label.sk-toggleable__label .caption {\n",
       "  font-size: 0.6rem;\n",
       "  font-weight: lighter;\n",
       "  color: var(--sklearn-color-text-muted);\n",
       "}\n",
       "\n",
       "#sk-container-id-1 label.sk-toggleable__label-arrow:before {\n",
       "  /* Arrow on the left of the label */\n",
       "  content: \"▸\";\n",
       "  float: left;\n",
       "  margin-right: 0.25em;\n",
       "  color: var(--sklearn-color-icon);\n",
       "}\n",
       "\n",
       "#sk-container-id-1 label.sk-toggleable__label-arrow:hover:before {\n",
       "  color: var(--sklearn-color-text);\n",
       "}\n",
       "\n",
       "/* Toggleable content - dropdown */\n",
       "\n",
       "#sk-container-id-1 div.sk-toggleable__content {\n",
       "  max-height: 0;\n",
       "  max-width: 0;\n",
       "  overflow: hidden;\n",
       "  text-align: left;\n",
       "  /* unfitted */\n",
       "  background-color: var(--sklearn-color-unfitted-level-0);\n",
       "}\n",
       "\n",
       "#sk-container-id-1 div.sk-toggleable__content.fitted {\n",
       "  /* fitted */\n",
       "  background-color: var(--sklearn-color-fitted-level-0);\n",
       "}\n",
       "\n",
       "#sk-container-id-1 div.sk-toggleable__content pre {\n",
       "  margin: 0.2em;\n",
       "  border-radius: 0.25em;\n",
       "  color: var(--sklearn-color-text);\n",
       "  /* unfitted */\n",
       "  background-color: var(--sklearn-color-unfitted-level-0);\n",
       "}\n",
       "\n",
       "#sk-container-id-1 div.sk-toggleable__content.fitted pre {\n",
       "  /* unfitted */\n",
       "  background-color: var(--sklearn-color-fitted-level-0);\n",
       "}\n",
       "\n",
       "#sk-container-id-1 input.sk-toggleable__control:checked~div.sk-toggleable__content {\n",
       "  /* Expand drop-down */\n",
       "  max-height: 200px;\n",
       "  max-width: 100%;\n",
       "  overflow: auto;\n",
       "}\n",
       "\n",
       "#sk-container-id-1 input.sk-toggleable__control:checked~label.sk-toggleable__label-arrow:before {\n",
       "  content: \"▾\";\n",
       "}\n",
       "\n",
       "/* Pipeline/ColumnTransformer-specific style */\n",
       "\n",
       "#sk-container-id-1 div.sk-label input.sk-toggleable__control:checked~label.sk-toggleable__label {\n",
       "  color: var(--sklearn-color-text);\n",
       "  background-color: var(--sklearn-color-unfitted-level-2);\n",
       "}\n",
       "\n",
       "#sk-container-id-1 div.sk-label.fitted input.sk-toggleable__control:checked~label.sk-toggleable__label {\n",
       "  background-color: var(--sklearn-color-fitted-level-2);\n",
       "}\n",
       "\n",
       "/* Estimator-specific style */\n",
       "\n",
       "/* Colorize estimator box */\n",
       "#sk-container-id-1 div.sk-estimator input.sk-toggleable__control:checked~label.sk-toggleable__label {\n",
       "  /* unfitted */\n",
       "  background-color: var(--sklearn-color-unfitted-level-2);\n",
       "}\n",
       "\n",
       "#sk-container-id-1 div.sk-estimator.fitted input.sk-toggleable__control:checked~label.sk-toggleable__label {\n",
       "  /* fitted */\n",
       "  background-color: var(--sklearn-color-fitted-level-2);\n",
       "}\n",
       "\n",
       "#sk-container-id-1 div.sk-label label.sk-toggleable__label,\n",
       "#sk-container-id-1 div.sk-label label {\n",
       "  /* The background is the default theme color */\n",
       "  color: var(--sklearn-color-text-on-default-background);\n",
       "}\n",
       "\n",
       "/* On hover, darken the color of the background */\n",
       "#sk-container-id-1 div.sk-label:hover label.sk-toggleable__label {\n",
       "  color: var(--sklearn-color-text);\n",
       "  background-color: var(--sklearn-color-unfitted-level-2);\n",
       "}\n",
       "\n",
       "/* Label box, darken color on hover, fitted */\n",
       "#sk-container-id-1 div.sk-label.fitted:hover label.sk-toggleable__label.fitted {\n",
       "  color: var(--sklearn-color-text);\n",
       "  background-color: var(--sklearn-color-fitted-level-2);\n",
       "}\n",
       "\n",
       "/* Estimator label */\n",
       "\n",
       "#sk-container-id-1 div.sk-label label {\n",
       "  font-family: monospace;\n",
       "  font-weight: bold;\n",
       "  display: inline-block;\n",
       "  line-height: 1.2em;\n",
       "}\n",
       "\n",
       "#sk-container-id-1 div.sk-label-container {\n",
       "  text-align: center;\n",
       "}\n",
       "\n",
       "/* Estimator-specific */\n",
       "#sk-container-id-1 div.sk-estimator {\n",
       "  font-family: monospace;\n",
       "  border: 1px dotted var(--sklearn-color-border-box);\n",
       "  border-radius: 0.25em;\n",
       "  box-sizing: border-box;\n",
       "  margin-bottom: 0.5em;\n",
       "  /* unfitted */\n",
       "  background-color: var(--sklearn-color-unfitted-level-0);\n",
       "}\n",
       "\n",
       "#sk-container-id-1 div.sk-estimator.fitted {\n",
       "  /* fitted */\n",
       "  background-color: var(--sklearn-color-fitted-level-0);\n",
       "}\n",
       "\n",
       "/* on hover */\n",
       "#sk-container-id-1 div.sk-estimator:hover {\n",
       "  /* unfitted */\n",
       "  background-color: var(--sklearn-color-unfitted-level-2);\n",
       "}\n",
       "\n",
       "#sk-container-id-1 div.sk-estimator.fitted:hover {\n",
       "  /* fitted */\n",
       "  background-color: var(--sklearn-color-fitted-level-2);\n",
       "}\n",
       "\n",
       "/* Specification for estimator info (e.g. \"i\" and \"?\") */\n",
       "\n",
       "/* Common style for \"i\" and \"?\" */\n",
       "\n",
       ".sk-estimator-doc-link,\n",
       "a:link.sk-estimator-doc-link,\n",
       "a:visited.sk-estimator-doc-link {\n",
       "  float: right;\n",
       "  font-size: smaller;\n",
       "  line-height: 1em;\n",
       "  font-family: monospace;\n",
       "  background-color: var(--sklearn-color-background);\n",
       "  border-radius: 1em;\n",
       "  height: 1em;\n",
       "  width: 1em;\n",
       "  text-decoration: none !important;\n",
       "  margin-left: 0.5em;\n",
       "  text-align: center;\n",
       "  /* unfitted */\n",
       "  border: var(--sklearn-color-unfitted-level-1) 1pt solid;\n",
       "  color: var(--sklearn-color-unfitted-level-1);\n",
       "}\n",
       "\n",
       ".sk-estimator-doc-link.fitted,\n",
       "a:link.sk-estimator-doc-link.fitted,\n",
       "a:visited.sk-estimator-doc-link.fitted {\n",
       "  /* fitted */\n",
       "  border: var(--sklearn-color-fitted-level-1) 1pt solid;\n",
       "  color: var(--sklearn-color-fitted-level-1);\n",
       "}\n",
       "\n",
       "/* On hover */\n",
       "div.sk-estimator:hover .sk-estimator-doc-link:hover,\n",
       ".sk-estimator-doc-link:hover,\n",
       "div.sk-label-container:hover .sk-estimator-doc-link:hover,\n",
       ".sk-estimator-doc-link:hover {\n",
       "  /* unfitted */\n",
       "  background-color: var(--sklearn-color-unfitted-level-3);\n",
       "  color: var(--sklearn-color-background);\n",
       "  text-decoration: none;\n",
       "}\n",
       "\n",
       "div.sk-estimator.fitted:hover .sk-estimator-doc-link.fitted:hover,\n",
       ".sk-estimator-doc-link.fitted:hover,\n",
       "div.sk-label-container:hover .sk-estimator-doc-link.fitted:hover,\n",
       ".sk-estimator-doc-link.fitted:hover {\n",
       "  /* fitted */\n",
       "  background-color: var(--sklearn-color-fitted-level-3);\n",
       "  color: var(--sklearn-color-background);\n",
       "  text-decoration: none;\n",
       "}\n",
       "\n",
       "/* Span, style for the box shown on hovering the info icon */\n",
       ".sk-estimator-doc-link span {\n",
       "  display: none;\n",
       "  z-index: 9999;\n",
       "  position: relative;\n",
       "  font-weight: normal;\n",
       "  right: .2ex;\n",
       "  padding: .5ex;\n",
       "  margin: .5ex;\n",
       "  width: min-content;\n",
       "  min-width: 20ex;\n",
       "  max-width: 50ex;\n",
       "  color: var(--sklearn-color-text);\n",
       "  box-shadow: 2pt 2pt 4pt #999;\n",
       "  /* unfitted */\n",
       "  background: var(--sklearn-color-unfitted-level-0);\n",
       "  border: .5pt solid var(--sklearn-color-unfitted-level-3);\n",
       "}\n",
       "\n",
       ".sk-estimator-doc-link.fitted span {\n",
       "  /* fitted */\n",
       "  background: var(--sklearn-color-fitted-level-0);\n",
       "  border: var(--sklearn-color-fitted-level-3);\n",
       "}\n",
       "\n",
       ".sk-estimator-doc-link:hover span {\n",
       "  display: block;\n",
       "}\n",
       "\n",
       "/* \"?\"-specific style due to the `<a>` HTML tag */\n",
       "\n",
       "#sk-container-id-1 a.estimator_doc_link {\n",
       "  float: right;\n",
       "  font-size: 1rem;\n",
       "  line-height: 1em;\n",
       "  font-family: monospace;\n",
       "  background-color: var(--sklearn-color-background);\n",
       "  border-radius: 1rem;\n",
       "  height: 1rem;\n",
       "  width: 1rem;\n",
       "  text-decoration: none;\n",
       "  /* unfitted */\n",
       "  color: var(--sklearn-color-unfitted-level-1);\n",
       "  border: var(--sklearn-color-unfitted-level-1) 1pt solid;\n",
       "}\n",
       "\n",
       "#sk-container-id-1 a.estimator_doc_link.fitted {\n",
       "  /* fitted */\n",
       "  border: var(--sklearn-color-fitted-level-1) 1pt solid;\n",
       "  color: var(--sklearn-color-fitted-level-1);\n",
       "}\n",
       "\n",
       "/* On hover */\n",
       "#sk-container-id-1 a.estimator_doc_link:hover {\n",
       "  /* unfitted */\n",
       "  background-color: var(--sklearn-color-unfitted-level-3);\n",
       "  color: var(--sklearn-color-background);\n",
       "  text-decoration: none;\n",
       "}\n",
       "\n",
       "#sk-container-id-1 a.estimator_doc_link.fitted:hover {\n",
       "  /* fitted */\n",
       "  background-color: var(--sklearn-color-fitted-level-3);\n",
       "}\n",
       "</style><div id=\"sk-container-id-1\" class=\"sk-top-container\"><div class=\"sk-text-repr-fallback\"><pre>PredictionWithExplanationPipeline(steps=[(&#x27;preprocessor&#x27;,\n",
       "                                          ColumnTransformer(transformers=[(&#x27;num&#x27;,\n",
       "                                                                           StandardScaler(),\n",
       "                                                                           [&#x27;age&#x27;,\n",
       "                                                                            &#x27;bmi&#x27;,\n",
       "                                                                            &#x27;children&#x27;]),\n",
       "                                                                          (&#x27;cat&#x27;,\n",
       "                                                                           OneHotEncoder(handle_unknown=&#x27;ignore&#x27;),\n",
       "                                                                           [&#x27;sex&#x27;,\n",
       "                                                                            &#x27;smoker&#x27;,\n",
       "                                                                            &#x27;region&#x27;])])),\n",
       "                                         (&#x27;regressor&#x27;,\n",
       "                                          XGBRegressor(base_score=None,\n",
       "                                                       booster=None,\n",
       "                                                       callbacks=None,\n",
       "                                                       colsample_bylevel=None,\n",
       "                                                       colsample_bynode=None,\n",
       "                                                       colsample_bytree=0.8...\n",
       "                                                       feature_weights=None,\n",
       "                                                       gamma=None,\n",
       "                                                       grow_policy=None,\n",
       "                                                       importance_type=None,\n",
       "                                                       interaction_constraints=None,\n",
       "                                                       learning_rate=0.1,\n",
       "                                                       max_bin=None,\n",
       "                                                       max_cat_threshold=None,\n",
       "                                                       max_cat_to_onehot=None,\n",
       "                                                       max_delta_step=None,\n",
       "                                                       max_depth=4,\n",
       "                                                       max_leaves=None,\n",
       "                                                       min_child_weight=None,\n",
       "                                                       missing=nan,\n",
       "                                                       monotone_constraints=None,\n",
       "                                                       multi_strategy=None,\n",
       "                                                       n_estimators=200,\n",
       "                                                       n_jobs=None,\n",
       "                                                       num_parallel_tree=None, ...))])</pre><b>In a Jupyter environment, please rerun this cell to show the HTML representation or trust the notebook. <br />On GitHub, the HTML representation is unable to render, please try loading this page with nbviewer.org.</b></div><div class=\"sk-container\" hidden><div class=\"sk-item sk-dashed-wrapped\"><div class=\"sk-label-container\"><div class=\"sk-label fitted sk-toggleable\"><input class=\"sk-toggleable__control sk-hidden--visually\" id=\"sk-estimator-id-1\" type=\"checkbox\" ><label for=\"sk-estimator-id-1\" class=\"sk-toggleable__label fitted sk-toggleable__label-arrow\"><div><div>PredictionWithExplanationPipeline</div></div><div><span class=\"sk-estimator-doc-link fitted\">i<span>Fitted</span></span></div></label><div class=\"sk-toggleable__content fitted\"><pre>PredictionWithExplanationPipeline(steps=[(&#x27;preprocessor&#x27;,\n",
       "                                          ColumnTransformer(transformers=[(&#x27;num&#x27;,\n",
       "                                                                           StandardScaler(),\n",
       "                                                                           [&#x27;age&#x27;,\n",
       "                                                                            &#x27;bmi&#x27;,\n",
       "                                                                            &#x27;children&#x27;]),\n",
       "                                                                          (&#x27;cat&#x27;,\n",
       "                                                                           OneHotEncoder(handle_unknown=&#x27;ignore&#x27;),\n",
       "                                                                           [&#x27;sex&#x27;,\n",
       "                                                                            &#x27;smoker&#x27;,\n",
       "                                                                            &#x27;region&#x27;])])),\n",
       "                                         (&#x27;regressor&#x27;,\n",
       "                                          XGBRegressor(base_score=None,\n",
       "                                                       booster=None,\n",
       "                                                       callbacks=None,\n",
       "                                                       colsample_bylevel=None,\n",
       "                                                       colsample_bynode=None,\n",
       "                                                       colsample_bytree=0.8...\n",
       "                                                       feature_weights=None,\n",
       "                                                       gamma=None,\n",
       "                                                       grow_policy=None,\n",
       "                                                       importance_type=None,\n",
       "                                                       interaction_constraints=None,\n",
       "                                                       learning_rate=0.1,\n",
       "                                                       max_bin=None,\n",
       "                                                       max_cat_threshold=None,\n",
       "                                                       max_cat_to_onehot=None,\n",
       "                                                       max_delta_step=None,\n",
       "                                                       max_depth=4,\n",
       "                                                       max_leaves=None,\n",
       "                                                       min_child_weight=None,\n",
       "                                                       missing=nan,\n",
       "                                                       monotone_constraints=None,\n",
       "                                                       multi_strategy=None,\n",
       "                                                       n_estimators=200,\n",
       "                                                       n_jobs=None,\n",
       "                                                       num_parallel_tree=None, ...))])</pre></div> </div></div><div class=\"sk-serial\"><div class=\"sk-item sk-dashed-wrapped\"><div class=\"sk-label-container\"><div class=\"sk-label fitted sk-toggleable\"><input class=\"sk-toggleable__control sk-hidden--visually\" id=\"sk-estimator-id-2\" type=\"checkbox\" ><label for=\"sk-estimator-id-2\" class=\"sk-toggleable__label fitted sk-toggleable__label-arrow\"><div><div>preprocessor: ColumnTransformer</div></div><div><a class=\"sk-estimator-doc-link fitted\" rel=\"noreferrer\" target=\"_blank\" href=\"https://scikit-learn.org/1.6/modules/generated/sklearn.compose.ColumnTransformer.html\">?<span>Documentation for preprocessor: ColumnTransformer</span></a></div></label><div class=\"sk-toggleable__content fitted\"><pre>ColumnTransformer(transformers=[(&#x27;num&#x27;, StandardScaler(),\n",
       "                                 [&#x27;age&#x27;, &#x27;bmi&#x27;, &#x27;children&#x27;]),\n",
       "                                (&#x27;cat&#x27;, OneHotEncoder(handle_unknown=&#x27;ignore&#x27;),\n",
       "                                 [&#x27;sex&#x27;, &#x27;smoker&#x27;, &#x27;region&#x27;])])</pre></div> </div></div><div class=\"sk-parallel\"><div class=\"sk-parallel-item\"><div class=\"sk-item\"><div class=\"sk-label-container\"><div class=\"sk-label fitted sk-toggleable\"><input class=\"sk-toggleable__control sk-hidden--visually\" id=\"sk-estimator-id-3\" type=\"checkbox\" ><label for=\"sk-estimator-id-3\" class=\"sk-toggleable__label fitted sk-toggleable__label-arrow\"><div><div>num</div></div></label><div class=\"sk-toggleable__content fitted\"><pre>[&#x27;age&#x27;, &#x27;bmi&#x27;, &#x27;children&#x27;]</pre></div> </div></div><div class=\"sk-serial\"><div class=\"sk-item\"><div class=\"sk-estimator fitted sk-toggleable\"><input class=\"sk-toggleable__control sk-hidden--visually\" id=\"sk-estimator-id-4\" type=\"checkbox\" ><label for=\"sk-estimator-id-4\" class=\"sk-toggleable__label fitted sk-toggleable__label-arrow\"><div><div>StandardScaler</div></div><div><a class=\"sk-estimator-doc-link fitted\" rel=\"noreferrer\" target=\"_blank\" href=\"https://scikit-learn.org/1.6/modules/generated/sklearn.preprocessing.StandardScaler.html\">?<span>Documentation for StandardScaler</span></a></div></label><div class=\"sk-toggleable__content fitted\"><pre>StandardScaler()</pre></div> </div></div></div></div></div><div class=\"sk-parallel-item\"><div class=\"sk-item\"><div class=\"sk-label-container\"><div class=\"sk-label fitted sk-toggleable\"><input class=\"sk-toggleable__control sk-hidden--visually\" id=\"sk-estimator-id-5\" type=\"checkbox\" ><label for=\"sk-estimator-id-5\" class=\"sk-toggleable__label fitted sk-toggleable__label-arrow\"><div><div>cat</div></div></label><div class=\"sk-toggleable__content fitted\"><pre>[&#x27;sex&#x27;, &#x27;smoker&#x27;, &#x27;region&#x27;]</pre></div> </div></div><div class=\"sk-serial\"><div class=\"sk-item\"><div class=\"sk-estimator fitted sk-toggleable\"><input class=\"sk-toggleable__control sk-hidden--visually\" id=\"sk-estimator-id-6\" type=\"checkbox\" ><label for=\"sk-estimator-id-6\" class=\"sk-toggleable__label fitted sk-toggleable__label-arrow\"><div><div>OneHotEncoder</div></div><div><a class=\"sk-estimator-doc-link fitted\" rel=\"noreferrer\" target=\"_blank\" href=\"https://scikit-learn.org/1.6/modules/generated/sklearn.preprocessing.OneHotEncoder.html\">?<span>Documentation for OneHotEncoder</span></a></div></label><div class=\"sk-toggleable__content fitted\"><pre>OneHotEncoder(handle_unknown=&#x27;ignore&#x27;)</pre></div> </div></div></div></div></div></div></div><div class=\"sk-item\"><div class=\"sk-estimator fitted sk-toggleable\"><input class=\"sk-toggleable__control sk-hidden--visually\" id=\"sk-estimator-id-7\" type=\"checkbox\" ><label for=\"sk-estimator-id-7\" class=\"sk-toggleable__label fitted sk-toggleable__label-arrow\"><div><div>XGBRegressor</div></div><div><a class=\"sk-estimator-doc-link fitted\" rel=\"noreferrer\" target=\"_blank\" href=\"https://xgboost.readthedocs.io/en/release_3.0.0/python/python_api.html#xgboost.XGBRegressor\">?<span>Documentation for XGBRegressor</span></a></div></label><div class=\"sk-toggleable__content fitted\"><pre>XGBRegressor(base_score=None, booster=None, callbacks=None,\n",
       "             colsample_bylevel=None, colsample_bynode=None,\n",
       "             colsample_bytree=0.8, device=None, early_stopping_rounds=None,\n",
       "             enable_categorical=False, eval_metric=None, feature_types=None,\n",
       "             feature_weights=None, gamma=None, grow_policy=None,\n",
       "             importance_type=None, interaction_constraints=None,\n",
       "             learning_rate=0.1, max_bin=None, max_cat_threshold=None,\n",
       "             max_cat_to_onehot=None, max_delta_step=None, max_depth=4,\n",
       "             max_leaves=None, min_child_weight=None, missing=nan,\n",
       "             monotone_constraints=None, multi_strategy=None, n_estimators=200,\n",
       "             n_jobs=None, num_parallel_tree=None, ...)</pre></div> </div></div></div></div></div></div>"
      ],
      "text/plain": [
       "PredictionWithExplanationPipeline(steps=[('preprocessor',\n",
       "                                          ColumnTransformer(transformers=[('num',\n",
       "                                                                           StandardScaler(),\n",
       "                                                                           ['age',\n",
       "                                                                            'bmi',\n",
       "                                                                            'children']),\n",
       "                                                                          ('cat',\n",
       "                                                                           OneHotEncoder(handle_unknown='ignore'),\n",
       "                                                                           ['sex',\n",
       "                                                                            'smoker',\n",
       "                                                                            'region'])])),\n",
       "                                         ('regressor',\n",
       "                                          XGBRegressor(base_score=None,\n",
       "                                                       booster=None,\n",
       "                                                       callbacks=None,\n",
       "                                                       colsample_bylevel=None,\n",
       "                                                       colsample_bynode=None,\n",
       "                                                       colsample_bytree=0.8...\n",
       "                                                       feature_weights=None,\n",
       "                                                       gamma=None,\n",
       "                                                       grow_policy=None,\n",
       "                                                       importance_type=None,\n",
       "                                                       interaction_constraints=None,\n",
       "                                                       learning_rate=0.1,\n",
       "                                                       max_bin=None,\n",
       "                                                       max_cat_threshold=None,\n",
       "                                                       max_cat_to_onehot=None,\n",
       "                                                       max_delta_step=None,\n",
       "                                                       max_depth=4,\n",
       "                                                       max_leaves=None,\n",
       "                                                       min_child_weight=None,\n",
       "                                                       missing=nan,\n",
       "                                                       monotone_constraints=None,\n",
       "                                                       multi_strategy=None,\n",
       "                                                       n_estimators=200,\n",
       "                                                       n_jobs=None,\n",
       "                                                       num_parallel_tree=None, ...))])"
      ]
     },
     "execution_count": 332,
     "metadata": {},
     "output_type": "execute_result"
    }
   ],
   "source": [
    "pipe.fit(X_train, y_train)\n"
   ]
  },
  {
   "cell_type": "code",
   "execution_count": null,
   "id": "fc9a8320-5550-47f9-94f1-caa3d388adec",
   "metadata": {},
   "outputs": [],
   "source": []
  },
  {
   "cell_type": "markdown",
   "id": "ee5ab659-04f3-4513-938d-0825f117948f",
   "metadata": {},
   "source": [
    "### Save the Trained Pipeline"
   ]
  },
  {
   "cell_type": "code",
   "execution_count": null,
   "id": "953b1e56-8a46-4f11-b33e-276753c5f724",
   "metadata": {},
   "outputs": [],
   "source": []
  },
  {
   "cell_type": "code",
   "execution_count": 360,
   "id": "a06786a9-6b8d-4487-bd0d-132caa20dadc",
   "metadata": {},
   "outputs": [
    {
     "name": "stdout",
     "output_type": "stream",
     "text": [
      "Pipeline saved successfully as 'insurance_pipeline_with_explainer.pkl'\n"
     ]
    }
   ],
   "source": [
    "\n",
    "with open('insurance_pipeline_with_explainer.pkl', 'wb') as f:\n",
    "    pickle.dump(pipe, f)\n",
    "\n",
    "print(\"Pipeline saved successfully as 'insurance_pipeline_with_explainer.pkl'\")\n"
   ]
  },
  {
   "cell_type": "code",
   "execution_count": null,
   "id": "1074c2aa-7511-41f4-886d-e41116abc737",
   "metadata": {},
   "outputs": [],
   "source": []
  },
  {
   "cell_type": "markdown",
   "id": "d64a0adc-88e5-492c-a90c-f27667f911d6",
   "metadata": {},
   "source": [
    "### Predictions "
   ]
  },
  {
   "cell_type": "code",
   "execution_count": 340,
   "id": "9ba4d988-1510-4936-b6d9-d2a49f2fb055",
   "metadata": {},
   "outputs": [],
   "source": [
    "df_with_explanations = pipe.predict(X_test)\n"
   ]
  },
  {
   "cell_type": "code",
   "execution_count": null,
   "id": "b181fe76-97c7-4c3e-a14b-b07ade6c99a5",
   "metadata": {},
   "outputs": [],
   "source": []
  },
  {
   "cell_type": "code",
   "execution_count": 354,
   "id": "cf25b7d6-7e64-4f37-82bc-08455524c967",
   "metadata": {},
   "outputs": [
    {
     "data": {
      "text/html": [
       "<div>\n",
       "<style scoped>\n",
       "    .dataframe tbody tr th:only-of-type {\n",
       "        vertical-align: middle;\n",
       "    }\n",
       "\n",
       "    .dataframe tbody tr th {\n",
       "        vertical-align: top;\n",
       "    }\n",
       "\n",
       "    .dataframe thead th {\n",
       "        text-align: right;\n",
       "    }\n",
       "</style>\n",
       "<table border=\"1\" class=\"dataframe\">\n",
       "  <thead>\n",
       "    <tr style=\"text-align: right;\">\n",
       "      <th></th>\n",
       "      <th>age</th>\n",
       "      <th>sex</th>\n",
       "      <th>bmi</th>\n",
       "      <th>children</th>\n",
       "      <th>smoker</th>\n",
       "      <th>region</th>\n",
       "      <th>Predicted_Charge</th>\n",
       "      <th>Charge_Category</th>\n",
       "      <th>Age_Group</th>\n",
       "      <th>Smoker_Status</th>\n",
       "      <th>BMI_Status</th>\n",
       "      <th>Children_Status</th>\n",
       "      <th>Charge_Percentage</th>\n",
       "      <th>Reason</th>\n",
       "    </tr>\n",
       "  </thead>\n",
       "  <tbody>\n",
       "    <tr>\n",
       "      <th>764</th>\n",
       "      <td>45</td>\n",
       "      <td>female</td>\n",
       "      <td>25.175</td>\n",
       "      <td>2</td>\n",
       "      <td>no</td>\n",
       "      <td>northeast</td>\n",
       "      <td>11973.089844</td>\n",
       "      <td>Moderate Charges</td>\n",
       "      <td>Older</td>\n",
       "      <td>Non-smoker</td>\n",
       "      <td>Slightly elevated BMI</td>\n",
       "      <td>2 children</td>\n",
       "      <td>32%</td>\n",
       "      <td>Moderate care needed | minor risks.</td>\n",
       "    </tr>\n",
       "    <tr>\n",
       "      <th>887</th>\n",
       "      <td>36</td>\n",
       "      <td>female</td>\n",
       "      <td>30.020</td>\n",
       "      <td>0</td>\n",
       "      <td>no</td>\n",
       "      <td>northwest</td>\n",
       "      <td>5615.336426</td>\n",
       "      <td>Moderate Charges</td>\n",
       "      <td>Adult</td>\n",
       "      <td>Non-smoker</td>\n",
       "      <td>High BMI</td>\n",
       "      <td>No children</td>\n",
       "      <td>15%</td>\n",
       "      <td>Mostly healthy | low minor risks</td>\n",
       "    </tr>\n",
       "    <tr>\n",
       "      <th>890</th>\n",
       "      <td>64</td>\n",
       "      <td>female</td>\n",
       "      <td>26.885</td>\n",
       "      <td>0</td>\n",
       "      <td>yes</td>\n",
       "      <td>northwest</td>\n",
       "      <td>31930.724609</td>\n",
       "      <td>High Charges</td>\n",
       "      <td>Older</td>\n",
       "      <td>Non-smoker</td>\n",
       "      <td>Slightly elevated BMI</td>\n",
       "      <td>No children</td>\n",
       "      <td>85%</td>\n",
       "      <td>Major healthcare needs | serious risk.</td>\n",
       "    </tr>\n",
       "    <tr>\n",
       "      <th>1293</th>\n",
       "      <td>46</td>\n",
       "      <td>male</td>\n",
       "      <td>25.745</td>\n",
       "      <td>3</td>\n",
       "      <td>no</td>\n",
       "      <td>northwest</td>\n",
       "      <td>10244.551758</td>\n",
       "      <td>Moderate Charges</td>\n",
       "      <td>Older</td>\n",
       "      <td>Non-smoker</td>\n",
       "      <td>Slightly elevated BMI</td>\n",
       "      <td>More than 2 children</td>\n",
       "      <td>27%</td>\n",
       "      <td>Mostly healthy | low minor risks</td>\n",
       "    </tr>\n",
       "    <tr>\n",
       "      <th>259</th>\n",
       "      <td>19</td>\n",
       "      <td>male</td>\n",
       "      <td>31.920</td>\n",
       "      <td>0</td>\n",
       "      <td>yes</td>\n",
       "      <td>northwest</td>\n",
       "      <td>31948.386719</td>\n",
       "      <td>High Charges</td>\n",
       "      <td>Teenager</td>\n",
       "      <td>Non-smoker</td>\n",
       "      <td>High BMI</td>\n",
       "      <td>No children</td>\n",
       "      <td>85%</td>\n",
       "      <td>Major healthcare needs | serious risk.</td>\n",
       "    </tr>\n",
       "    <tr>\n",
       "      <th>1312</th>\n",
       "      <td>34</td>\n",
       "      <td>male</td>\n",
       "      <td>42.900</td>\n",
       "      <td>1</td>\n",
       "      <td>no</td>\n",
       "      <td>southwest</td>\n",
       "      <td>6554.707520</td>\n",
       "      <td>Moderate Charges</td>\n",
       "      <td>Adult</td>\n",
       "      <td>Non-smoker</td>\n",
       "      <td>High BMI</td>\n",
       "      <td>2 children</td>\n",
       "      <td>17%</td>\n",
       "      <td>Mostly healthy | low minor risks</td>\n",
       "    </tr>\n",
       "    <tr>\n",
       "      <th>899</th>\n",
       "      <td>19</td>\n",
       "      <td>female</td>\n",
       "      <td>22.515</td>\n",
       "      <td>0</td>\n",
       "      <td>no</td>\n",
       "      <td>northwest</td>\n",
       "      <td>2277.334717</td>\n",
       "      <td>Low Charges</td>\n",
       "      <td>Teenager</td>\n",
       "      <td>Non-smoker</td>\n",
       "      <td>Healthy BMI</td>\n",
       "      <td>No children</td>\n",
       "      <td>6%</td>\n",
       "      <td>Low healthcare cost | very healthy or low risk.</td>\n",
       "    </tr>\n",
       "    <tr>\n",
       "      <th>752</th>\n",
       "      <td>64</td>\n",
       "      <td>male</td>\n",
       "      <td>37.905</td>\n",
       "      <td>0</td>\n",
       "      <td>no</td>\n",
       "      <td>northwest</td>\n",
       "      <td>17571.888672</td>\n",
       "      <td>High Charges</td>\n",
       "      <td>Older</td>\n",
       "      <td>Non-smoker</td>\n",
       "      <td>High BMI</td>\n",
       "      <td>No children</td>\n",
       "      <td>47%</td>\n",
       "      <td>Moderate care needed | minor risks.</td>\n",
       "    </tr>\n",
       "    <tr>\n",
       "      <th>1286</th>\n",
       "      <td>28</td>\n",
       "      <td>female</td>\n",
       "      <td>17.290</td>\n",
       "      <td>0</td>\n",
       "      <td>no</td>\n",
       "      <td>northeast</td>\n",
       "      <td>5565.258301</td>\n",
       "      <td>Moderate Charges</td>\n",
       "      <td>Adult</td>\n",
       "      <td>Non-smoker</td>\n",
       "      <td>Healthy BMI</td>\n",
       "      <td>No children</td>\n",
       "      <td>15%</td>\n",
       "      <td>Mostly healthy | low minor risks</td>\n",
       "    </tr>\n",
       "    <tr>\n",
       "      <th>707</th>\n",
       "      <td>49</td>\n",
       "      <td>male</td>\n",
       "      <td>28.690</td>\n",
       "      <td>3</td>\n",
       "      <td>no</td>\n",
       "      <td>northwest</td>\n",
       "      <td>10255.685547</td>\n",
       "      <td>Moderate Charges</td>\n",
       "      <td>Older</td>\n",
       "      <td>Non-smoker</td>\n",
       "      <td>Slightly elevated BMI</td>\n",
       "      <td>More than 2 children</td>\n",
       "      <td>27%</td>\n",
       "      <td>Mostly healthy | low minor risks</td>\n",
       "    </tr>\n",
       "  </tbody>\n",
       "</table>\n",
       "</div>"
      ],
      "text/plain": [
       "      age     sex     bmi  children smoker     region  Predicted_Charge  \\\n",
       "764    45  female  25.175         2     no  northeast      11973.089844   \n",
       "887    36  female  30.020         0     no  northwest       5615.336426   \n",
       "890    64  female  26.885         0    yes  northwest      31930.724609   \n",
       "1293   46    male  25.745         3     no  northwest      10244.551758   \n",
       "259    19    male  31.920         0    yes  northwest      31948.386719   \n",
       "1312   34    male  42.900         1     no  southwest       6554.707520   \n",
       "899    19  female  22.515         0     no  northwest       2277.334717   \n",
       "752    64    male  37.905         0     no  northwest      17571.888672   \n",
       "1286   28  female  17.290         0     no  northeast       5565.258301   \n",
       "707    49    male  28.690         3     no  northwest      10255.685547   \n",
       "\n",
       "       Charge_Category Age_Group Smoker_Status             BMI_Status  \\\n",
       "764   Moderate Charges     Older    Non-smoker  Slightly elevated BMI   \n",
       "887   Moderate Charges     Adult    Non-smoker               High BMI   \n",
       "890       High Charges     Older    Non-smoker  Slightly elevated BMI   \n",
       "1293  Moderate Charges     Older    Non-smoker  Slightly elevated BMI   \n",
       "259       High Charges  Teenager    Non-smoker               High BMI   \n",
       "1312  Moderate Charges     Adult    Non-smoker               High BMI   \n",
       "899        Low Charges  Teenager    Non-smoker            Healthy BMI   \n",
       "752       High Charges     Older    Non-smoker               High BMI   \n",
       "1286  Moderate Charges     Adult    Non-smoker            Healthy BMI   \n",
       "707   Moderate Charges     Older    Non-smoker  Slightly elevated BMI   \n",
       "\n",
       "           Children_Status Charge_Percentage  \\\n",
       "764             2 children               32%   \n",
       "887            No children               15%   \n",
       "890            No children               85%   \n",
       "1293  More than 2 children               27%   \n",
       "259            No children               85%   \n",
       "1312            2 children               17%   \n",
       "899            No children                6%   \n",
       "752            No children               47%   \n",
       "1286           No children               15%   \n",
       "707   More than 2 children               27%   \n",
       "\n",
       "                                               Reason  \n",
       "764               Moderate care needed | minor risks.  \n",
       "887                  Mostly healthy | low minor risks  \n",
       "890            Major healthcare needs | serious risk.  \n",
       "1293                 Mostly healthy | low minor risks  \n",
       "259            Major healthcare needs | serious risk.  \n",
       "1312                 Mostly healthy | low minor risks  \n",
       "899   Low healthcare cost | very healthy or low risk.  \n",
       "752               Moderate care needed | minor risks.  \n",
       "1286                 Mostly healthy | low minor risks  \n",
       "707                  Mostly healthy | low minor risks  "
      ]
     },
     "execution_count": 354,
     "metadata": {},
     "output_type": "execute_result"
    }
   ],
   "source": [
    "df_with_explanations.head(10)"
   ]
  },
  {
   "cell_type": "code",
   "execution_count": null,
   "id": "9c08446a-ff63-4018-be8f-11d984249270",
   "metadata": {},
   "outputs": [],
   "source": []
  },
  {
   "cell_type": "code",
   "execution_count": null,
   "id": "570c7f8f-f852-47fd-a360-451b36b2e546",
   "metadata": {},
   "outputs": [],
   "source": []
  },
  {
   "cell_type": "markdown",
   "id": "5ec325fa-10e2-49ac-aa84-7ee8e0a6c58d",
   "metadata": {},
   "source": [
    ">### Predication For New dataset Using PKL file "
   ]
  },
  {
   "cell_type": "code",
   "execution_count": null,
   "id": "af8f5f89-ae10-45d1-8d9b-488ef865c04c",
   "metadata": {},
   "outputs": [],
   "source": []
  },
  {
   "cell_type": "code",
   "execution_count": 440,
   "id": "108768d7-2efd-43f5-b3b7-8e3b73aa75c6",
   "metadata": {},
   "outputs": [
    {
     "data": {
      "text/html": [
       "<div>\n",
       "<style scoped>\n",
       "    .dataframe tbody tr th:only-of-type {\n",
       "        vertical-align: middle;\n",
       "    }\n",
       "\n",
       "    .dataframe tbody tr th {\n",
       "        vertical-align: top;\n",
       "    }\n",
       "\n",
       "    .dataframe thead th {\n",
       "        text-align: right;\n",
       "    }\n",
       "</style>\n",
       "<table border=\"1\" class=\"dataframe\">\n",
       "  <thead>\n",
       "    <tr style=\"text-align: right;\">\n",
       "      <th></th>\n",
       "      <th>age</th>\n",
       "      <th>sex</th>\n",
       "      <th>bmi</th>\n",
       "      <th>children</th>\n",
       "      <th>smoker</th>\n",
       "      <th>region</th>\n",
       "      <th>Predicted_Charge</th>\n",
       "      <th>Charge_Category</th>\n",
       "      <th>Age_Group</th>\n",
       "      <th>Smoker_Status</th>\n",
       "      <th>BMI_Status</th>\n",
       "      <th>Children_Status</th>\n",
       "      <th>Charge_Percentage</th>\n",
       "      <th>Reason</th>\n",
       "    </tr>\n",
       "  </thead>\n",
       "  <tbody>\n",
       "    <tr>\n",
       "      <th>0</th>\n",
       "      <td>56</td>\n",
       "      <td>0</td>\n",
       "      <td>26.67</td>\n",
       "      <td>1</td>\n",
       "      <td>1</td>\n",
       "      <td>2</td>\n",
       "      <td>24657.712891</td>\n",
       "      <td>High Charges</td>\n",
       "      <td>Older</td>\n",
       "      <td>Smoker</td>\n",
       "      <td>Slightly elevated BMI</td>\n",
       "      <td>2 children</td>\n",
       "      <td>60%</td>\n",
       "      <td>Higher care needs | high risk.</td>\n",
       "    </tr>\n",
       "    <tr>\n",
       "      <th>1</th>\n",
       "      <td>46</td>\n",
       "      <td>1</td>\n",
       "      <td>41.29</td>\n",
       "      <td>2</td>\n",
       "      <td>0</td>\n",
       "      <td>1</td>\n",
       "      <td>31839.589844</td>\n",
       "      <td>High Charges</td>\n",
       "      <td>Older</td>\n",
       "      <td>Non-smoker</td>\n",
       "      <td>High BMI</td>\n",
       "      <td>2 children</td>\n",
       "      <td>78%</td>\n",
       "      <td>Major healthcare needs | serious risk.</td>\n",
       "    </tr>\n",
       "    <tr>\n",
       "      <th>2</th>\n",
       "      <td>32</td>\n",
       "      <td>1</td>\n",
       "      <td>21.31</td>\n",
       "      <td>4</td>\n",
       "      <td>1</td>\n",
       "      <td>3</td>\n",
       "      <td>16881.023438</td>\n",
       "      <td>High Charges</td>\n",
       "      <td>Adult</td>\n",
       "      <td>Smoker</td>\n",
       "      <td>Healthy BMI</td>\n",
       "      <td>More than 2 children</td>\n",
       "      <td>41%</td>\n",
       "      <td>Moderate care needed | minor risks.</td>\n",
       "    </tr>\n",
       "    <tr>\n",
       "      <th>3</th>\n",
       "      <td>60</td>\n",
       "      <td>1</td>\n",
       "      <td>16.81</td>\n",
       "      <td>4</td>\n",
       "      <td>0</td>\n",
       "      <td>3</td>\n",
       "      <td>27584.951172</td>\n",
       "      <td>High Charges</td>\n",
       "      <td>Older</td>\n",
       "      <td>Non-smoker</td>\n",
       "      <td>Healthy BMI</td>\n",
       "      <td>More than 2 children</td>\n",
       "      <td>67%</td>\n",
       "      <td>Higher care needs | high risk.</td>\n",
       "    </tr>\n",
       "    <tr>\n",
       "      <th>4</th>\n",
       "      <td>25</td>\n",
       "      <td>0</td>\n",
       "      <td>32.64</td>\n",
       "      <td>3</td>\n",
       "      <td>0</td>\n",
       "      <td>2</td>\n",
       "      <td>32103.005859</td>\n",
       "      <td>High Charges</td>\n",
       "      <td>Adult</td>\n",
       "      <td>Non-smoker</td>\n",
       "      <td>High BMI</td>\n",
       "      <td>More than 2 children</td>\n",
       "      <td>78%</td>\n",
       "      <td>Major healthcare needs | serious risk.</td>\n",
       "    </tr>\n",
       "  </tbody>\n",
       "</table>\n",
       "</div>"
      ],
      "text/plain": [
       "   age sex    bmi  children smoker region  Predicted_Charge Charge_Category  \\\n",
       "0   56   0  26.67         1      1      2      24657.712891    High Charges   \n",
       "1   46   1  41.29         2      0      1      31839.589844    High Charges   \n",
       "2   32   1  21.31         4      1      3      16881.023438    High Charges   \n",
       "3   60   1  16.81         4      0      3      27584.951172    High Charges   \n",
       "4   25   0  32.64         3      0      2      32103.005859    High Charges   \n",
       "\n",
       "  Age_Group Smoker_Status             BMI_Status       Children_Status  \\\n",
       "0     Older        Smoker  Slightly elevated BMI            2 children   \n",
       "1     Older    Non-smoker               High BMI            2 children   \n",
       "2     Adult        Smoker            Healthy BMI  More than 2 children   \n",
       "3     Older    Non-smoker            Healthy BMI  More than 2 children   \n",
       "4     Adult    Non-smoker               High BMI  More than 2 children   \n",
       "\n",
       "  Charge_Percentage                                  Reason  \n",
       "0               60%          Higher care needs | high risk.  \n",
       "1               78%  Major healthcare needs | serious risk.  \n",
       "2               41%     Moderate care needed | minor risks.  \n",
       "3               67%          Higher care needs | high risk.  \n",
       "4               78%  Major healthcare needs | serious risk.  "
      ]
     },
     "execution_count": 440,
     "metadata": {},
     "output_type": "execute_result"
    }
   ],
   "source": [
    "import pandas as pd\n",
    "import pickle\n",
    "\n",
    "# --- 1. Load the saved pipeline ---\n",
    "with open('insurance_pipeline_with_explainer.pkl', 'rb') as f:\n",
    "    pipe = pickle.load(f)\n",
    "\n",
    "# --- 2. Load new dataset from file path ---\n",
    "file_path = 'synthetic_prediction_input.csv'  # <-- Change new CSV file\n",
    "data = pd.read_csv(file_path)\n",
    "\n",
    "# --- 3. Convert categorical features to string (same as training) ---\n",
    "categorical_features = ['sex', 'smoker', 'region']\n",
    "for col in categorical_features:\n",
    "    data[col] = data[col].astype(str)\n",
    "\n",
    "# --- 4. Predict with explanations ---\n",
    "df_with_explanations = pipe.predict(data)\n",
    "\n",
    "# --- 5. Show output ---\n",
    "df_with_explanations.head(5)\n"
   ]
  },
  {
   "cell_type": "code",
   "execution_count": null,
   "id": "84132da3-9311-4f47-8177-1a310376cc55",
   "metadata": {},
   "outputs": [],
   "source": []
  },
  {
   "cell_type": "markdown",
   "id": "798640e2-cc6c-4296-ab1d-428cb63bf899",
   "metadata": {},
   "source": [
    "###  For new datasets, why convert categorical columns to strings before prediction?\n",
    "\n",
    " >The pipeline does the encoding, but it does NOT convert types for you automatically.\n",
    "\n",
    " >input data must be in the expected format and types.\n",
    "\n",
    " >So, converting categorical columns to strings before passing to pipeline is necessary if the new data is not already in that format.\n"
   ]
  },
  {
   "cell_type": "code",
   "execution_count": null,
   "id": "d195b618-5ead-4d73-bff0-75626488eda0",
   "metadata": {},
   "outputs": [],
   "source": []
  },
  {
   "cell_type": "markdown",
   "id": "929116af-8cfd-4f62-976a-a8400705b1eb",
   "metadata": {},
   "source": [
    "### Predication for Single Entry data "
   ]
  },
  {
   "cell_type": "code",
   "execution_count": null,
   "id": "6780de56-b215-42ce-8261-db6d3b805014",
   "metadata": {},
   "outputs": [],
   "source": []
  },
  {
   "cell_type": "code",
   "execution_count": 369,
   "id": "c357c18b-e966-43ed-9e77-bd488800e7b1",
   "metadata": {},
   "outputs": [
    {
     "data": {
      "text/html": [
       "<div>\n",
       "<style scoped>\n",
       "    .dataframe tbody tr th:only-of-type {\n",
       "        vertical-align: middle;\n",
       "    }\n",
       "\n",
       "    .dataframe tbody tr th {\n",
       "        vertical-align: top;\n",
       "    }\n",
       "\n",
       "    .dataframe thead th {\n",
       "        text-align: right;\n",
       "    }\n",
       "</style>\n",
       "<table border=\"1\" class=\"dataframe\">\n",
       "  <thead>\n",
       "    <tr style=\"text-align: right;\">\n",
       "      <th></th>\n",
       "      <th>age</th>\n",
       "      <th>sex</th>\n",
       "      <th>bmi</th>\n",
       "      <th>children</th>\n",
       "      <th>smoker</th>\n",
       "      <th>region</th>\n",
       "      <th>Predicted_Charge</th>\n",
       "      <th>Charge_Category</th>\n",
       "      <th>Age_Group</th>\n",
       "      <th>Smoker_Status</th>\n",
       "      <th>BMI_Status</th>\n",
       "      <th>Children_Status</th>\n",
       "      <th>Charge_Percentage</th>\n",
       "      <th>Reason</th>\n",
       "    </tr>\n",
       "  </thead>\n",
       "  <tbody>\n",
       "    <tr>\n",
       "      <th>0</th>\n",
       "      <td>45</td>\n",
       "      <td>1</td>\n",
       "      <td>28.5</td>\n",
       "      <td>2</td>\n",
       "      <td>0</td>\n",
       "      <td>3</td>\n",
       "      <td>25413.011719</td>\n",
       "      <td>High Charges</td>\n",
       "      <td>Older</td>\n",
       "      <td>Non-smoker</td>\n",
       "      <td>Slightly elevated BMI</td>\n",
       "      <td>2 children</td>\n",
       "      <td>76%</td>\n",
       "      <td>Major healthcare needs | serious risk.</td>\n",
       "    </tr>\n",
       "    <tr>\n",
       "      <th>1</th>\n",
       "      <td>30</td>\n",
       "      <td>0</td>\n",
       "      <td>24.0</td>\n",
       "      <td>1</td>\n",
       "      <td>1</td>\n",
       "      <td>2</td>\n",
       "      <td>16597.433594</td>\n",
       "      <td>High Charges</td>\n",
       "      <td>Adult</td>\n",
       "      <td>Smoker</td>\n",
       "      <td>Healthy BMI</td>\n",
       "      <td>2 children</td>\n",
       "      <td>49%</td>\n",
       "      <td>Moderate care needed | minor risks.</td>\n",
       "    </tr>\n",
       "    <tr>\n",
       "      <th>2</th>\n",
       "      <td>52</td>\n",
       "      <td>1</td>\n",
       "      <td>31.0</td>\n",
       "      <td>3</td>\n",
       "      <td>0</td>\n",
       "      <td>1</td>\n",
       "      <td>31813.384766</td>\n",
       "      <td>High Charges</td>\n",
       "      <td>Older</td>\n",
       "      <td>Non-smoker</td>\n",
       "      <td>High BMI</td>\n",
       "      <td>More than 2 children</td>\n",
       "      <td>95%</td>\n",
       "      <td>Major healthcare needs | serious risk.</td>\n",
       "    </tr>\n",
       "    <tr>\n",
       "      <th>3</th>\n",
       "      <td>23</td>\n",
       "      <td>0</td>\n",
       "      <td>26.7</td>\n",
       "      <td>0</td>\n",
       "      <td>0</td>\n",
       "      <td>3</td>\n",
       "      <td>19188.187500</td>\n",
       "      <td>High Charges</td>\n",
       "      <td>Adult</td>\n",
       "      <td>Non-smoker</td>\n",
       "      <td>Slightly elevated BMI</td>\n",
       "      <td>No children</td>\n",
       "      <td>57%</td>\n",
       "      <td>Higher care needs | high risk.</td>\n",
       "    </tr>\n",
       "    <tr>\n",
       "      <th>4</th>\n",
       "      <td>40</td>\n",
       "      <td>1</td>\n",
       "      <td>29.9</td>\n",
       "      <td>2</td>\n",
       "      <td>1</td>\n",
       "      <td>2</td>\n",
       "      <td>25876.136719</td>\n",
       "      <td>High Charges</td>\n",
       "      <td>Adult</td>\n",
       "      <td>Smoker</td>\n",
       "      <td>Slightly elevated BMI</td>\n",
       "      <td>2 children</td>\n",
       "      <td>77%</td>\n",
       "      <td>Major healthcare needs | serious risk.</td>\n",
       "    </tr>\n",
       "    <tr>\n",
       "      <th>5</th>\n",
       "      <td>36</td>\n",
       "      <td>0</td>\n",
       "      <td>22.5</td>\n",
       "      <td>1</td>\n",
       "      <td>0</td>\n",
       "      <td>1</td>\n",
       "      <td>18681.777344</td>\n",
       "      <td>High Charges</td>\n",
       "      <td>Adult</td>\n",
       "      <td>Non-smoker</td>\n",
       "      <td>Healthy BMI</td>\n",
       "      <td>2 children</td>\n",
       "      <td>56%</td>\n",
       "      <td>Higher care needs | high risk.</td>\n",
       "    </tr>\n",
       "    <tr>\n",
       "      <th>6</th>\n",
       "      <td>55</td>\n",
       "      <td>1</td>\n",
       "      <td>33.2</td>\n",
       "      <td>4</td>\n",
       "      <td>1</td>\n",
       "      <td>3</td>\n",
       "      <td>33614.667969</td>\n",
       "      <td>High Charges</td>\n",
       "      <td>Older</td>\n",
       "      <td>Smoker</td>\n",
       "      <td>High BMI</td>\n",
       "      <td>More than 2 children</td>\n",
       "      <td>100%</td>\n",
       "      <td>Major healthcare needs | serious risk.</td>\n",
       "    </tr>\n",
       "    <tr>\n",
       "      <th>7</th>\n",
       "      <td>48</td>\n",
       "      <td>0</td>\n",
       "      <td>27.0</td>\n",
       "      <td>0</td>\n",
       "      <td>0</td>\n",
       "      <td>2</td>\n",
       "      <td>24134.134766</td>\n",
       "      <td>High Charges</td>\n",
       "      <td>Older</td>\n",
       "      <td>Non-smoker</td>\n",
       "      <td>Slightly elevated BMI</td>\n",
       "      <td>No children</td>\n",
       "      <td>72%</td>\n",
       "      <td>Major healthcare needs | serious risk.</td>\n",
       "    </tr>\n",
       "    <tr>\n",
       "      <th>8</th>\n",
       "      <td>29</td>\n",
       "      <td>1</td>\n",
       "      <td>25.3</td>\n",
       "      <td>3</td>\n",
       "      <td>1</td>\n",
       "      <td>1</td>\n",
       "      <td>18265.662109</td>\n",
       "      <td>High Charges</td>\n",
       "      <td>Adult</td>\n",
       "      <td>Smoker</td>\n",
       "      <td>Slightly elevated BMI</td>\n",
       "      <td>More than 2 children</td>\n",
       "      <td>54%</td>\n",
       "      <td>Higher care needs | high risk.</td>\n",
       "    </tr>\n",
       "    <tr>\n",
       "      <th>9</th>\n",
       "      <td>50</td>\n",
       "      <td>0</td>\n",
       "      <td>30.5</td>\n",
       "      <td>2</td>\n",
       "      <td>0</td>\n",
       "      <td>3</td>\n",
       "      <td>31843.091797</td>\n",
       "      <td>High Charges</td>\n",
       "      <td>Older</td>\n",
       "      <td>Non-smoker</td>\n",
       "      <td>High BMI</td>\n",
       "      <td>2 children</td>\n",
       "      <td>95%</td>\n",
       "      <td>Major healthcare needs | serious risk.</td>\n",
       "    </tr>\n",
       "  </tbody>\n",
       "</table>\n",
       "</div>"
      ],
      "text/plain": [
       "   age sex   bmi  children smoker region  Predicted_Charge Charge_Category  \\\n",
       "0   45   1  28.5         2      0      3      25413.011719    High Charges   \n",
       "1   30   0  24.0         1      1      2      16597.433594    High Charges   \n",
       "2   52   1  31.0         3      0      1      31813.384766    High Charges   \n",
       "3   23   0  26.7         0      0      3      19188.187500    High Charges   \n",
       "4   40   1  29.9         2      1      2      25876.136719    High Charges   \n",
       "5   36   0  22.5         1      0      1      18681.777344    High Charges   \n",
       "6   55   1  33.2         4      1      3      33614.667969    High Charges   \n",
       "7   48   0  27.0         0      0      2      24134.134766    High Charges   \n",
       "8   29   1  25.3         3      1      1      18265.662109    High Charges   \n",
       "9   50   0  30.5         2      0      3      31843.091797    High Charges   \n",
       "\n",
       "  Age_Group Smoker_Status             BMI_Status       Children_Status  \\\n",
       "0     Older    Non-smoker  Slightly elevated BMI            2 children   \n",
       "1     Adult        Smoker            Healthy BMI            2 children   \n",
       "2     Older    Non-smoker               High BMI  More than 2 children   \n",
       "3     Adult    Non-smoker  Slightly elevated BMI           No children   \n",
       "4     Adult        Smoker  Slightly elevated BMI            2 children   \n",
       "5     Adult    Non-smoker            Healthy BMI            2 children   \n",
       "6     Older        Smoker               High BMI  More than 2 children   \n",
       "7     Older    Non-smoker  Slightly elevated BMI           No children   \n",
       "8     Adult        Smoker  Slightly elevated BMI  More than 2 children   \n",
       "9     Older    Non-smoker               High BMI            2 children   \n",
       "\n",
       "  Charge_Percentage                                  Reason  \n",
       "0               76%  Major healthcare needs | serious risk.  \n",
       "1               49%     Moderate care needed | minor risks.  \n",
       "2               95%  Major healthcare needs | serious risk.  \n",
       "3               57%          Higher care needs | high risk.  \n",
       "4               77%  Major healthcare needs | serious risk.  \n",
       "5               56%          Higher care needs | high risk.  \n",
       "6              100%  Major healthcare needs | serious risk.  \n",
       "7               72%  Major healthcare needs | serious risk.  \n",
       "8               54%          Higher care needs | high risk.  \n",
       "9               95%  Major healthcare needs | serious risk.  "
      ]
     },
     "execution_count": 369,
     "metadata": {},
     "output_type": "execute_result"
    }
   ],
   "source": [
    "import pandas as pd\n",
    "import pickle\n",
    "\n",
    "# --- 1. Load the saved pipeline ---\n",
    "with open('insurance_pipeline_with_explainer.pkl', 'rb') as f:\n",
    "    pipe = pickle.load(f)\n",
    "\n",
    "# --- 2. Prepare 10 new input rows as DataFrame ---\n",
    "new_data = pd.DataFrame([\n",
    "    {'age': 45, 'sex': '1', 'bmi': 28.5, 'children': 2, 'smoker': '0', 'region': '3'},\n",
    "    {'age': 30, 'sex': '0', 'bmi': 24.0, 'children': 1, 'smoker': '1', 'region': '2'},\n",
    "    {'age': 52, 'sex': '1', 'bmi': 31.0, 'children': 3, 'smoker': '0', 'region': '1'},\n",
    "    {'age': 23, 'sex': '0', 'bmi': 26.7, 'children': 0, 'smoker': '0', 'region': '3'},\n",
    "    {'age': 40, 'sex': '1', 'bmi': 29.9, 'children': 2, 'smoker': '1', 'region': '2'},\n",
    "    {'age': 36, 'sex': '0', 'bmi': 22.5, 'children': 1, 'smoker': '0', 'region': '1'},\n",
    "    {'age': 55, 'sex': '1', 'bmi': 33.2, 'children': 4, 'smoker': '1', 'region': '3'},\n",
    "    {'age': 48, 'sex': '0', 'bmi': 27.0, 'children': 0, 'smoker': '0', 'region': '2'},\n",
    "    {'age': 29, 'sex': '1', 'bmi': 25.3, 'children': 3, 'smoker': '1', 'region': '1'},\n",
    "    {'age': 50, 'sex': '0', 'bmi': 30.5, 'children': 2, 'smoker': '0', 'region': '3'}\n",
    "])\n",
    "\n",
    "# --- 3. Use pipeline to predict with explanations ---\n",
    "result = pipe.predict(new_data)\n",
    "\n",
    "# --- 4. Show predictions and explanations ---\n",
    "result.head(10)\n"
   ]
  },
  {
   "cell_type": "code",
   "execution_count": null,
   "id": "10ceaa32-971c-4646-9b26-1f9729ab7101",
   "metadata": {},
   "outputs": [],
   "source": []
  },
  {
   "cell_type": "code",
   "execution_count": null,
   "id": "552f37cd-5847-4d62-b754-37da43b88a1b",
   "metadata": {},
   "outputs": [],
   "source": []
  },
  {
   "cell_type": "markdown",
   "id": "ea98ce61-e45e-4b1c-9cca-50dd0c1f7ed9",
   "metadata": {},
   "source": [
    ">### Descriptive Summary"
   ]
  },
  {
   "cell_type": "code",
   "execution_count": null,
   "id": "50dd08ef-4370-460f-a446-a9115692a7ed",
   "metadata": {},
   "outputs": [],
   "source": []
  },
  {
   "cell_type": "markdown",
   "id": "9f7b583a-39c7-46b4-850c-5ec535806010",
   "metadata": {},
   "source": [
    "### Factors and Their Relationship in predication "
   ]
  },
  {
   "cell_type": "markdown",
   "id": "78f469b6-1248-4dff-9857-a3a04dba8a15",
   "metadata": {},
   "source": [
    "| **Factor**   | **Description**                           | **Role in Insurance Charges**                                                                                                                 |\n",
    "| ------------ | ----------------------------------------- | --------------------------------------------------------------------------------------------------------------------------------------------- |\n",
    "|**age**      | Age of the individual (in years)          | Older individuals generally have higher healthcare costs due to increased medical needs, chronic conditions, and aging-related issues.        |\n",
    "| **bmi**      | Body Mass Index                           | High BMI (especially >30) is linked to obesity-related conditions (diabetes, hypertension), leading to higher predicted insurance charges.    |\n",
    "| **children** | Number of children/dependents             | Having dependents may slightly increase expected healthcare use and charges, though impact is moderate.                                       |\n",
    "| **sex**      | Biological sex (male/female)              | Gender may cause small differences in healthcare utilization but is usually a minor factor.                                                   |\n",
    "| **smoker**   | Smoking status (yes/no)                   | **Strong predictor** — Smokers are at higher risk for diseases like cancer and heart disease, resulting in **much higher insurance charges**. |\n",
    "| **region**   | Residential region (northeast/south/etc.) | Region influences healthcare pricing due to local costs, hospital access, and provider charges.                                               |\n"
   ]
  },
  {
   "cell_type": "code",
   "execution_count": null,
   "id": "aa434b2f-62a6-449a-89e5-810aae848006",
   "metadata": {},
   "outputs": [],
   "source": []
  },
  {
   "cell_type": "markdown",
   "id": "c4e86661-e12a-4ba1-9e2a-0cb2a6cd7ddc",
   "metadata": {},
   "source": [
    "### Factors Influence Insurance Charges"
   ]
  },
  {
   "cell_type": "markdown",
   "id": "4853d8b5-3bb6-47d9-a3df-13449348b5f2",
   "metadata": {},
   "source": [
    "| **Factor**        | **Condition**        | **Impact on Charges** | **Reason**                                                          |\n",
    "| ----------------- | -------------------- | --------------------- | ------------------------------------------------------------------- |\n",
    "| **Age**           | Teenager (10–19)     | Low to Moderate       | Typically fewer medical needs.                                      |\n",
    "|                   | Adult (20–44)        | Moderate              | Some health risks begin to emerge.                                  |\n",
    "|                   | Older (45–80)        | Moderate to High      | Increased risk of chronic conditions and age-related issues.        |\n",
    "| **Smoker Status** | Non-Smoker           | Low to Moderate       | Lower health risks, especially related to lungs and heart.          |\n",
    "|                   | Smoker               | **Very High**         | Strong predictor of serious diseases (e.g., cancer, heart disease). |\n",
    "| **BMI**           | Healthy (<25)        | Low                   | Normal weight, low obesity-related risk.                            |\n",
    "|                   | Overweight (25–29.9) | Moderate              | Increased risk of hypertension, diabetes.                           |\n",
    "|                   | Obese (30+)          | High                  | High risk for chronic illnesses and complications.                  |\n",
    "| **Children**      | 0 children           | Lower                 | Fewer dependents, lower family healthcare usage.                    |\n",
    "|                   | 1–2 children         | Slightly Higher       | Mild increase due to dependents' healthcare needs.                  |\n",
    "|                   | 3 or more children   | Moderate Increase     | More dependents, potentially higher healthcare costs.               |\n"
   ]
  },
  {
   "cell_type": "markdown",
   "id": "cb1a53ce-59b6-4a06-8f9c-015b81c25707",
   "metadata": {},
   "source": [
    "### predicted insurance charges & Risk Level"
   ]
  },
  {
   "cell_type": "code",
   "execution_count": null,
   "id": "d02250f7-d1fe-46d6-a0b1-5b9b6f26d946",
   "metadata": {},
   "outputs": [],
   "source": []
  },
  {
   "cell_type": "markdown",
   "id": "f85e3193-601f-431b-b46e-4f26e6f1eb6e",
   "metadata": {},
   "source": [
    "| **Charge Range (USD)** | **Charge Category** | **Description**                                                                                         | **Risk Level** |\n",
    "| ---------------------- | ------------------- | ------------------------------------------------------------------------------------------------------- | -------------- |\n",
    "| 0 – 4,999              | Low Charges         | Minimal healthcare needs; generally healthy individuals with low predicted costs.                       | Low risk       |\n",
    "| 5,000 – 14,999         | Moderate Charges    | Moderate healthcare usage; may have some health issues or risks requiring periodic care.                | Medium risk    |\n",
    "| 15,000 and above       | High Charges        | High predicted healthcare costs due to serious conditions or high-risk factors like smoking or obesity. | High risk      |\n"
   ]
  },
  {
   "cell_type": "code",
   "execution_count": null,
   "id": "f80a7298-4d93-4e09-abc4-d81944046ac0",
   "metadata": {},
   "outputs": [],
   "source": []
  },
  {
   "cell_type": "markdown",
   "id": "a0384979-2e0a-4aca-99aa-60c09f086cfe",
   "metadata": {},
   "source": [
    "### Summary :- \n",
    "\n",
    ">Charges increase with age, smoking, higher BMI, and number of children.\n",
    "\n",
    ">Smoking and high BMI have the strongest influence on pushing charges into the High category.\n",
    "\n",
    ">Teenagers and non-smokers with healthy BMI are often in the Low charge bracket."
   ]
  },
  {
   "cell_type": "code",
   "execution_count": null,
   "id": "2f838e0d-125b-4296-8a87-2cf2bcc29318",
   "metadata": {},
   "outputs": [],
   "source": []
  },
  {
   "cell_type": "code",
   "execution_count": null,
   "id": "a93dff5b",
   "metadata": {},
   "outputs": [],
   "source": []
  },
  {
   "cell_type": "code",
   "execution_count": null,
   "id": "d3d9d7e1",
   "metadata": {},
   "outputs": [],
   "source": []
  },
  {
   "cell_type": "markdown",
   "id": "21cb44ca",
   "metadata": {},
   "source": [
    "| **Category**                         | **Distance-Based Algorithms**                                                                                | **Non-Distance-Based Algorithms**                                                                                                                                                                                                                  |\n",
    "| ------------------------------------ | ------------------------------------------------------------------------------------------------------------ | -------------------------------------------------------------------------------------------------------------------------------------------------------------------------------------------------------------------------------------------------- |\n",
    "| **Definition**                       | Algorithms that calculate distances between data points (e.g., Euclidean, Manhattan).                        | Algorithms that don’t rely on distances but use probabilities, trees, or gradients.                                                                                                                                                                |\n",
    "| **Algorithms**                       | - **K-Nearest Neighbors (KNN)**<br>- **K-Means Clustering**<br>- **Hierarchical Clustering**<br>- **DBSCAN** | - **Linear Regression**<br>- **Logistic Regression**<br>- **Support Vector Machines (SVM)**<br>- **Principal Component Analysis (PCA)**<br>- **Decision Trees**<br>- **Random Forest**<br>- **Gradient Boosting Models (e.g., XGBoost, LightGBM)** |\n",
    "| **Scaling Required?**                | Always (Normalization is often preferred).                                                                   | Usually required (Standardization is common).                                                                                                                                                                                                      |\n",
    "| **Use Case**                         | - Works with features in different units or scales.<br>- Sensitive to magnitudes of data points.             | - Works with structured and linearly separable data.<br>- Sensitive to variance and normal distribution.                                                                                                                                           |\n",
    "| **Examples of Distance Metric Used** | - Euclidean Distance<br>- Manhattan Distance<br>- Cosine Similarity                                          | Not applicable.                                                                                                                                                                                                                                    |\n",
    "| **Preferred Scaling Method**         | Normalization (scales values to \\[0, 1] or \\[-1, 1]).                                                        | Standardization (scales values to mean 0 and std dev 1).                                                                                                                                                                                           |\n"
   ]
  },
  {
   "cell_type": "code",
   "execution_count": null,
   "id": "bed4a709",
   "metadata": {},
   "outputs": [],
   "source": []
  },
  {
   "cell_type": "code",
   "execution_count": null,
   "metadata": {},
   "outputs": [],
   "source": []
  }
 ],
 "metadata": {
  "kernelspec": {
   "display_name": "Python 3 (ipykernel)",
   "language": "python",
   "name": "python3"
  },
  "language_info": {
   "codemirror_mode": {
    "name": "ipython",
    "version": 3
   },
   "file_extension": ".py",
   "mimetype": "text/x-python",
   "name": "python",
   "nbconvert_exporter": "python",
   "pygments_lexer": "ipython3",
   "version": "3.12.8"
  }
 },
 "nbformat": 4,
 "nbformat_minor": 5
}
